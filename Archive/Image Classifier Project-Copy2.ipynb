{
 "cells": [
  {
   "cell_type": "markdown",
   "metadata": {},
   "source": [
    "# Developing an AI application\n",
    "\n",
    "Going forward, AI algorithms will be incorporated into more and more everyday applications. For example, you might want to include an image classifier in a smart phone app. To do this, you'd use a deep learning model trained on hundreds of thousands of images as part of the overall application architecture. A large part of software development in the future will be using these types of models as common parts of applications. \n",
    "\n",
    "In this project, you'll train an image classifier to recognize different species of flowers. You can imagine using something like this in a phone app that tells you the name of the flower your camera is looking at. In practice you'd train this classifier, then export it for use in your application. We'll be using [this dataset](http://www.robots.ox.ac.uk/~vgg/data/flowers/102/index.html) of 102 flower categories, you can see a few examples below. \n",
    "\n",
    "<img src='assets/Flowers.png' width=500px>\n",
    "\n",
    "The project is broken down into multiple steps:\n",
    "\n",
    "* Load and preprocess the image dataset\n",
    "* Train the image classifier on your dataset\n",
    "* Use the trained classifier to predict image content\n",
    "\n",
    "We'll lead you through each part which you'll implement in Python.\n",
    "\n",
    "When you've completed this project, you'll have an application that can be trained on any set of labeled images. Here your network will be learning about flowers and end up as a command line application. But, what you do with your new skills depends on your imagination and effort in building a dataset. For example, imagine an app where you take a picture of a car, it tells you what the make and model is, then looks up information about it. Go build your own dataset and make something new.\n",
    "\n",
    "First up is importing the packages you'll need. It's good practice to keep all the imports at the beginning of your code. As you work through this notebook and find you need to import a package, make sure to add the import up here."
   ]
  },
  {
   "cell_type": "code",
   "execution_count": 1,
   "metadata": {
    "collapsed": true
   },
   "outputs": [],
   "source": [
    "from torchvision import models,transforms,datasets\n",
    "import torch\n",
    "from PIL import Image\n",
    "import numpy as np\n",
    "import matplotlib.pyplot as plt\n",
    "import os\n",
    "import torch.nn as nn\n",
    "from torch.autograd import Variable\n",
    "import torch\n",
    "import bcolz\n",
    "import time\n",
    "#from utils import *\n",
    "#import tensorflow as tf\n",
    "#import keras\n",
    "%matplotlib inline"
   ]
  },
  {
   "cell_type": "markdown",
   "metadata": {},
   "source": [
    "## Load the data\n",
    "\n",
    "Here you'll use `torchvision` to load the data ([documentation](http://pytorch.org/docs/0.3.0/torchvision/index.html)). The data should be included alongside this notebook, otherwise you can [download it here](https://s3.amazonaws.com/content.udacity-data.com/nd089/flower_data.tar.gz). The dataset is split into three parts, training, validation, and testing. For the training, you'll want to apply transformations such as random scaling, cropping, and flipping. This will help the network generalize leading to better performance. You'll also need to make sure the input data is resized to 224x224 pixels as required by the pre-trained networks.\n",
    "\n",
    "The validation and testing sets are used to measure the model's performance on data it hasn't seen yet. For this you don't want any scaling or rotation transformations, but you'll need to resize then crop the images to the appropriate size.\n",
    "\n",
    "The pre-trained networks you'll use were trained on the ImageNet dataset where each color channel was normalized separately. For all three sets you'll need to normalize the means and standard deviations of the images to what the network expects. For the means, it's `[0.485, 0.456, 0.406]` and for the standard deviations `[0.229, 0.224, 0.225]`, calculated from the ImageNet images.  These values will shift each color channel to be centered at 0 and range from -1 to 1.\n",
    " "
   ]
  },
  {
   "cell_type": "code",
   "execution_count": 2,
   "metadata": {
    "collapsed": true
   },
   "outputs": [],
   "source": [
    "data_dir = 'flowers'\n",
    "train_dir = data_dir + '/train'\n",
    "valid_dir = data_dir + '/valid'\n",
    "test_dir = data_dir + '/test'"
   ]
  },
  {
   "cell_type": "code",
   "execution_count": 3,
   "metadata": {},
   "outputs": [
    {
     "name": "stderr",
     "output_type": "stream",
     "text": [
      "F:\\Anaconda3\\envs\\aipnd\\lib\\site-packages\\torchvision\\transforms\\transforms.py:563: UserWarning: The use of the transforms.RandomSizedCrop transform is deprecated, please use transforms.RandomResizedCrop instead.\n",
      "  \"please use transforms.RandomResizedCrop instead.\")\n"
     ]
    }
   ],
   "source": [
    "normalize = transforms.Normalize(mean=[0.485, 0.456, 0.406],\n",
    "                                 std=[0.229, 0.224, 0.225])\n",
    "\n",
    "prep1 = transforms.Compose([\n",
    "            transforms.RandomSizedCrop(224),\n",
    "            transforms.RandomHorizontalFlip(),\n",
    "            transforms.ToTensor(),\n",
    "            normalize,\n",
    "        ])\n",
    "\n",
    "data_dir = 'flowers/'\n",
    "\n",
    "dsets = {x: datasets.ImageFolder(os.path.join(data_dir, x), prep1)\n",
    "         for x in ['train', 'val']}\n",
    "\n",
    "dset_loaders = {x: torch.utils.data.DataLoader(dsets[x], batch_size=1,\n",
    "                                               shuffle=False, num_workers=1)\n",
    "                for x in ['train', 'val']}\n",
    "dset_sizes = {x: len(dsets[x]) for x in ['train', 'val']}\n",
    "dset_classes = dsets['train'].classes\n",
    "\n",
    "use_gpu = torch.cuda.is_available()"
   ]
  },
  {
   "cell_type": "markdown",
   "metadata": {},
   "source": [
    "### Label mapping\n",
    "\n",
    "You'll also need to load in a mapping from category label to category name. You can find this in the file `cat_to_name.json`. It's a JSON object which you can read in with the [`json` module](https://docs.python.org/2/library/json.html). This will give you a dictionary mapping the integer encoded categories to the actual names of the flowers."
   ]
  },
  {
   "cell_type": "code",
   "execution_count": 4,
   "metadata": {
    "collapsed": true
   },
   "outputs": [],
   "source": [
    "import json\n",
    "\n",
    "with open('cat_to_name.json', 'r') as f:\n",
    "    cat_to_name = json.load(f)\n",
    "#cat_to_name"
   ]
  },
  {
   "cell_type": "markdown",
   "metadata": {},
   "source": [
    "# Building and training the classifier\n",
    "\n",
    "Now that the data is ready, it's time to build and train the classifier. As usual, you should use one of the pretrained models from `torchvision.models` to get the image features. Build and train a new feed-forward classifier using those features.\n",
    "\n",
    "We're going to leave this part up to you. If you want to talk through it with someone, chat with your fellow students! You can also ask questions on the forums or join the instructors in office hours.\n",
    "\n",
    "Refer to [the rubric](https://review.udacity.com/#!/rubrics/1663/view) for guidance on successfully completing this section. Things you'll need to do:\n",
    "\n",
    "* Load a [pre-trained network](http://pytorch.org/docs/master/torchvision/models.html) (If you need a starting point, the VGG networks work great and are straightforward to use)\n",
    "* Define a new, untrained feed-forward network as a classifier, using ReLU activations and dropout\n",
    "* Train the classifier layers using backpropagation using the pre-trained network to get the features\n",
    "* Track the loss and accuracy on the validation set to determine the best hyperparameters\n",
    "\n",
    "We've left a cell open for you below, but use as many as you need. Our advice is to break the problem up into smaller parts you can run separately. Check that each part is doing what you expect, then move on to the next. You'll likely find that as you work through each part, you'll need to go back and modify your previous code. This is totally normal!\n",
    "\n",
    "When training make sure you're updating only the weights of the feed-forward network. You should be able to get the validation accuracy above 70% if you build everything right. Make sure to try different hyperparameters (learning rate, units in the classifier, epochs, etc) to find the best model. Save those hyperparameters to use as default values in the next part of the project."
   ]
  },
  {
   "cell_type": "code",
   "execution_count": 5,
   "metadata": {
    "collapsed": true
   },
   "outputs": [],
   "source": [
    "# Hyperparameters\n",
    "batch_size = 1\n",
    "num_classes = 102\n",
    "num_features = 512\n",
    "learning_rate = 1e-2\n",
    "num_epochs = 100\n",
    "step_size=7\n",
    "gamma=0.1\n",
    "weight_decay=1e-5"
   ]
  },
  {
   "cell_type": "code",
   "execution_count": 6,
   "metadata": {
    "collapsed": true
   },
   "outputs": [],
   "source": [
    "model_vgg = models.vgg16(pretrained=True)\n",
    "for param in model_vgg.parameters():\n",
    "    param.requires_grad = False\n",
    "model_vgg.classifier[6].out_features = num_classes\n",
    "for param in model_vgg.classifier[6].parameters():\n",
    "    param.requires_grad = True"
   ]
  },
  {
   "cell_type": "code",
   "execution_count": 7,
   "metadata": {
    "collapsed": true
   },
   "outputs": [],
   "source": [
    "def preconvfeat(dataset):\n",
    "    conv_features = []\n",
    "    labels_list = []\n",
    "    for data in dataset:\n",
    "        inputs,labels = data\n",
    "\n",
    "        inputs , labels = Variable(inputs),Variable(labels)\n",
    "        x = model_vgg.features(inputs)\n",
    "        conv_features.extend(x.data.cpu().numpy())\n",
    "        labels_list.extend(labels.data.cpu().numpy())\n",
    "    conv_features = np.concatenate([[feat] for feat in conv_features])\n",
    "    return (conv_features,labels_list)"
   ]
  },
  {
   "cell_type": "code",
   "execution_count": null,
   "metadata": {
    "collapsed": true
   },
   "outputs": [],
   "source": [
    "%%time\n",
    "conv_feat_train,labels_train = preconvfeat(dset_loaders['train'])"
   ]
  },
  {
   "cell_type": "code",
   "execution_count": null,
   "metadata": {
    "collapsed": true
   },
   "outputs": [],
   "source": [
    "%%time\n",
    "conv_feat_val,labels_val = preconvfeat(dset_loaders['val'])"
   ]
  },
  {
   "cell_type": "code",
   "execution_count": null,
   "metadata": {
    "collapsed": true
   },
   "outputs": [],
   "source": [
    "save_array('conv_feat_trainV16.bc',conv_feat_train)\n",
    "save_array('labels_train16.bc',labels_train)\n",
    "save_array('conv_feat_val16.bc',conv_feat_val)\n",
    "save_array('labels_val16.bc',labels_val)"
   ]
  },
  {
   "cell_type": "code",
   "execution_count": null,
   "metadata": {
    "collapsed": true
   },
   "outputs": [],
   "source": [
    "conv_feat_train = load_array('conv_feat_trainV16.bc')\n",
    "labels_train = load_array('labels_trainV16.bc')\n",
    "conv_feat_val = load_array('conv_feat_valV16.bc')\n",
    "labels_val = load_array('labels_valV16.bc')"
   ]
  },
  {
   "cell_type": "code",
   "execution_count": null,
   "metadata": {
    "collapsed": true
   },
   "outputs": [],
   "source": []
  },
  {
   "cell_type": "code",
   "execution_count": null,
   "metadata": {
    "collapsed": true
   },
   "outputs": [],
   "source": [
    "criterion = nn.CrossEntropyLoss()\n",
    "lr = 0.01\n",
    "optimizer = torch.optim.SGD(model_vgg.classifier[6].parameters(),lr = lr)"
   ]
  },
  {
   "cell_type": "code",
   "execution_count": null,
   "metadata": {
    "collapsed": true
   },
   "outputs": [],
   "source": [
    "def data_gen(conv_feat,labels,batch_size=64,shuffle=True):\n",
    "    labels = np.array(labels)\n",
    "    if shuffle:\n",
    "        index = np.random.permutation(len(conv_feat))\n",
    "        conv_feat = conv_feat[index]\n",
    "        labels = labels[index]\n",
    "    for idx in range(0,len(conv_feat),batch_size):\n",
    "        yield(conv_feat[idx:idx+batch_size],labels[idx:idx+batch_size])"
   ]
  },
  {
   "cell_type": "code",
   "execution_count": null,
   "metadata": {
    "collapsed": true
   },
   "outputs": [],
   "source": [
    "def train_model(model,size,conv_feat=None,labels=None,epochs=1,optimizer=None,train=True,shuffle=True):\n",
    "    for epoch in range(epochs):\n",
    "        batches = data_gen(conv_feat=conv_feat,labels=labels,shuffle=shuffle)\n",
    "        total = 0\n",
    "        running_loss = 0.0\n",
    "        running_corrects = 0\n",
    "        for inputs,classes in batches:\n",
    "            inputs , classes = Variable(torch.from_numpy(inputs)),Variable(torch.from_numpy(classes))\n",
    "            inputs = inputs.view(inputs.size(0), -1)\n",
    "            outputs = model(inputs)\n",
    "            loss = criterion(outputs,classes)           \n",
    "            if train:\n",
    "                if optimizer is None:\n",
    "                    raise ValueError('Pass optimizer for train mode')\n",
    "                optimizer = optimizer\n",
    "                optimizer.zero_grad()\n",
    "                loss.backward()\n",
    "                optimizer.step()\n",
    "            _,preds = torch.max(outputs.data,1)\n",
    "            # statistics\n",
    "            running_loss += loss.data[0]\n",
    "            running_corrects += torch.sum(preds == classes.data)\n",
    "        epoch_loss = running_loss / size\n",
    "        epoch_acc = running_corrects / size\n",
    "        print('Loss: {:.4f} Acc: {:.4f}'.format(\n",
    "                     epoch_loss, epoch_acc))"
   ]
  },
  {
   "cell_type": "code",
   "execution_count": 207,
   "metadata": {
    "collapsed": true
   },
   "outputs": [],
   "source": [
    "%%time\n",
    "(train_model(model=model_vgg.classifier,size=dset_sizes['train'],conv_feat=conv_feat_train,labels=labels_train,\n",
    "            epochs=10,optimizer=optimizer,train=True,shuffle=True))"
   ]
  },
  {
   "cell_type": "code",
   "execution_count": 208,
   "metadata": {},
   "outputs": [
    {
     "name": "stdout",
     "output_type": "stream",
     "text": [
      "Wall time: 3min 18s\n"
     ]
    }
   ],
   "source": [
    "train_model(conv_feat=conv_feat_val,labels=labels_val,model=model_vgg.classifier\n",
    "            ,size=dset_sizes['val'],train=False,shuffle=True)"
   ]
  },
  {
   "cell_type": "code",
   "execution_count": 209,
   "metadata": {
    "collapsed": true
   },
   "outputs": [],
   "source": []
  },
  {
   "cell_type": "code",
   "execution_count": 99,
   "metadata": {
    "collapsed": true
   },
   "outputs": [],
   "source": []
  },
  {
   "cell_type": "code",
   "execution_count": 214,
   "metadata": {},
   "outputs": [
    {
     "name": "stdout",
     "output_type": "stream",
     "text": [
      "(6552, 512, 1, 1)\n",
      "(6552,)\n",
      "(818, 512, 1, 1)\n",
      "VGG(\n",
      "  (features): Sequential(\n",
      "    (0): Conv2d(3, 64, kernel_size=(3, 3), stride=(1, 1), padding=(1, 1))\n",
      "    (1): ReLU(inplace)\n",
      "    (2): Conv2d(64, 64, kernel_size=(3, 3), stride=(1, 1), padding=(1, 1))\n",
      "    (3): ReLU(inplace)\n",
      "    (4): MaxPool2d(kernel_size=2, stride=2, padding=0, dilation=1, ceil_mode=False)\n",
      "    (5): Conv2d(64, 128, kernel_size=(3, 3), stride=(1, 1), padding=(1, 1))\n",
      "    (6): ReLU(inplace)\n",
      "    (7): Conv2d(128, 128, kernel_size=(3, 3), stride=(1, 1), padding=(1, 1))\n",
      "    (8): ReLU(inplace)\n",
      "    (9): MaxPool2d(kernel_size=2, stride=2, padding=0, dilation=1, ceil_mode=False)\n",
      "    (10): Conv2d(128, 256, kernel_size=(3, 3), stride=(1, 1), padding=(1, 1))\n",
      "    (11): ReLU(inplace)\n",
      "    (12): Conv2d(256, 256, kernel_size=(3, 3), stride=(1, 1), padding=(1, 1))\n",
      "    (13): ReLU(inplace)\n",
      "    (14): Conv2d(256, 256, kernel_size=(3, 3), stride=(1, 1), padding=(1, 1))\n",
      "    (15): ReLU(inplace)\n",
      "    (16): Conv2d(256, 256, kernel_size=(3, 3), stride=(1, 1), padding=(1, 1))\n",
      "    (17): ReLU(inplace)\n",
      "    (18): MaxPool2d(kernel_size=2, stride=2, padding=0, dilation=1, ceil_mode=False)\n",
      "    (19): Conv2d(256, 512, kernel_size=(3, 3), stride=(1, 1), padding=(1, 1))\n",
      "    (20): ReLU(inplace)\n",
      "    (21): Conv2d(512, 512, kernel_size=(3, 3), stride=(1, 1), padding=(1, 1))\n",
      "    (22): ReLU(inplace)\n",
      "    (23): Conv2d(512, 512, kernel_size=(3, 3), stride=(1, 1), padding=(1, 1))\n",
      "    (24): ReLU(inplace)\n",
      "    (25): Conv2d(512, 512, kernel_size=(3, 3), stride=(1, 1), padding=(1, 1))\n",
      "    (26): ReLU(inplace)\n",
      "    (27): MaxPool2d(kernel_size=2, stride=2, padding=0, dilation=1, ceil_mode=False)\n",
      "    (28): Conv2d(512, 512, kernel_size=(3, 3), stride=(1, 1), padding=(1, 1))\n",
      "    (29): ReLU(inplace)\n",
      "    (30): Conv2d(512, 512, kernel_size=(3, 3), stride=(1, 1), padding=(1, 1))\n",
      "    (31): ReLU(inplace)\n",
      "    (32): Conv2d(512, 512, kernel_size=(3, 3), stride=(1, 1), padding=(1, 1))\n",
      "    (33): ReLU(inplace)\n",
      "    (34): Conv2d(512, 512, kernel_size=(3, 3), stride=(1, 1), padding=(1, 1))\n",
      "    (35): ReLU(inplace)\n",
      "    (36): MaxPool2d(kernel_size=2, stride=2, padding=0, dilation=1, ceil_mode=False)\n",
      "  )\n",
      "  (classifier): Sequential(\n",
      "    (0): Linear(in_features=25088, out_features=4096, bias=True)\n",
      "    (1): ReLU(inplace)\n",
      "    (2): Dropout(p=0.5)\n",
      "    (3): Linear(in_features=4096, out_features=4096, bias=True)\n",
      "    (4): ReLU(inplace)\n",
      "    (5): Dropout(p=0.5)\n",
      "    (6): Linear(in_features=4096, out_features=1000, bias=True)\n",
      "  )\n",
      ")\n"
     ]
    }
   ],
   "source": []
  },
  {
   "cell_type": "code",
   "execution_count": 216,
   "metadata": {
    "collapsed": true
   },
   "outputs": [],
   "source": [
    "\n",
    "criterioncriterio  = nn.CrossEntropyLoss()\n",
    "lr = 0.01\n",
    "optimizer = torch.optim.SGD(model.classifier[6].parameters(),lr = lr)"
   ]
  },
  {
   "cell_type": "code",
   "execution_count": 227,
   "metadata": {
    "collapsed": true
   },
   "outputs": [],
   "source": [
    "def data_gen(conv_feat,labels,batch_size=64,shuffle=True):\n",
    "    labels = np.array(labels)\n",
    "    if shuffle:\n",
    "        index = np.random.permutation(len(conv_feat))\n",
    "        conv_feat = conv_feat[index]\n",
    "        labels = labels[index]\n",
    "    for idx in range(0,len(conv_feat),batch_size):\n",
    "        yield(conv_feat[idx:idx+batch_size],labels[idx:idx+batch_size])"
   ]
  },
  {
   "cell_type": "code",
   "execution_count": 234,
   "metadata": {
    "collapsed": true
   },
   "outputs": [],
   "source": [
    "def train_model(model,size,conv_feat=None,labels=None,epochs=1,optimizer=None,train=True,shuffle=True):\n",
    "    for epoch in range(epochs):\n",
    "        batches = data_gen(conv_feat=conv_feat,labels=labels,shuffle=shuffle)\n",
    "        total = 0\n",
    "        running_loss = 0.0\n",
    "        running_corrects = 0\n",
    "        for inputs,classes in batches:\n",
    "            inputs , classes = Variable(inputs), Variable(classes)\n",
    "            inputs = inputs.view(inputs.size(0), -1)\n",
    "            outputs = model(inputs)\n",
    "            loss = criterion(outputs,classes)           \n",
    "            if train:\n",
    "                if optimizer is None:\n",
    "                    raise ValueError('Pass optimizer for train mode')\n",
    "                optimizer = optimizer\n",
    "                optimizer.zero_grad()\n",
    "                loss.backward()\n",
    "                optimizer.step()\n",
    "            _,preds = torch.max(outputs.data,1)\n",
    "            # statistics\n",
    "            running_loss += loss.data[0]\n",
    "            running_corrects += torch.sum(preds == classes.data)\n",
    "        epoch_loss = running_loss / size\n",
    "        epoch_acc = running_corrects / size\n",
    "        print('Loss: {:.4f} Acc: {:.4f}'.format(\n",
    "                     epoch_loss, epoch_acc))"
   ]
  },
  {
   "cell_type": "code",
   "execution_count": 235,
   "metadata": {},
   "outputs": [
    {
     "ename": "TypeError",
     "evalue": "Variable data has to be a tensor, but got numpy.ndarray",
     "output_type": "error",
     "traceback": [
      "\u001b[1;31m---------------------------------------------------------------------------\u001b[0m",
      "\u001b[1;31mTypeError\u001b[0m                                 Traceback (most recent call last)",
      "\u001b[1;32m<timed eval>\u001b[0m in \u001b[0;36m<module>\u001b[1;34m()\u001b[0m\n",
      "\u001b[1;32m<ipython-input-234-7d28df5b306d>\u001b[0m in \u001b[0;36mtrain_model\u001b[1;34m(model, size, conv_feat, labels, epochs, optimizer, train, shuffle)\u001b[0m\n\u001b[0;32m      6\u001b[0m         \u001b[0mrunning_corrects\u001b[0m \u001b[1;33m=\u001b[0m \u001b[1;36m0\u001b[0m\u001b[1;33m\u001b[0m\u001b[0m\n\u001b[0;32m      7\u001b[0m         \u001b[1;32mfor\u001b[0m \u001b[0minputs\u001b[0m\u001b[1;33m,\u001b[0m\u001b[0mclasses\u001b[0m \u001b[1;32min\u001b[0m \u001b[0mbatches\u001b[0m\u001b[1;33m:\u001b[0m\u001b[1;33m\u001b[0m\u001b[0m\n\u001b[1;32m----> 8\u001b[1;33m             \u001b[0minputs\u001b[0m \u001b[1;33m,\u001b[0m \u001b[0mclasses\u001b[0m \u001b[1;33m=\u001b[0m \u001b[0mVariable\u001b[0m\u001b[1;33m(\u001b[0m\u001b[0minputs\u001b[0m\u001b[1;33m)\u001b[0m\u001b[1;33m,\u001b[0m \u001b[0mVariable\u001b[0m\u001b[1;33m(\u001b[0m\u001b[0mclasses\u001b[0m\u001b[1;33m)\u001b[0m\u001b[1;33m\u001b[0m\u001b[0m\n\u001b[0m\u001b[0;32m      9\u001b[0m             \u001b[0minputs\u001b[0m \u001b[1;33m=\u001b[0m \u001b[0minputs\u001b[0m\u001b[1;33m.\u001b[0m\u001b[0mview\u001b[0m\u001b[1;33m(\u001b[0m\u001b[0minputs\u001b[0m\u001b[1;33m.\u001b[0m\u001b[0msize\u001b[0m\u001b[1;33m(\u001b[0m\u001b[1;36m0\u001b[0m\u001b[1;33m)\u001b[0m\u001b[1;33m,\u001b[0m \u001b[1;33m-\u001b[0m\u001b[1;36m1\u001b[0m\u001b[1;33m)\u001b[0m\u001b[1;33m\u001b[0m\u001b[0m\n\u001b[0;32m     10\u001b[0m             \u001b[0moutputs\u001b[0m \u001b[1;33m=\u001b[0m \u001b[0mmodel\u001b[0m\u001b[1;33m(\u001b[0m\u001b[0minputs\u001b[0m\u001b[1;33m)\u001b[0m\u001b[1;33m\u001b[0m\u001b[0m\n",
      "\u001b[1;31mTypeError\u001b[0m: Variable data has to be a tensor, but got numpy.ndarray"
     ]
    }
   ],
   "source": [
    "%%time\n",
    "(train_model(model=model.classifier,size=dataset_sizes['train'],conv_feat=conv_feat_train,labels=labels_train,\n",
    "            epochs=10,optimizer=optimizer,train=True,shuffle=True))"
   ]
  },
  {
   "cell_type": "code",
   "execution_count": 197,
   "metadata": {},
   "outputs": [
    {
     "name": "stdout",
     "output_type": "stream",
     "text": [
      "Classifier(\n",
      "  (classifier): Sequential(\n",
      "    (0): ReLU()\n",
      "    (1): Dropout(p=0.5)\n",
      "    (2): Linear(in_features=512, out_features=102, bias=True)\n",
      "  )\n",
      ")\n"
     ]
    }
   ],
   "source": [
    "# #### Model ####\n",
    "# Feedforward Classifier\n",
    "class Classifier(nn.Module):\n",
    "    \"\"\"Resnet50 -> AvgPool -> FC()[Softmax]\n",
    "    \"\"\"\n",
    "    def __init__(self, num_features, num_classes):\n",
    "        super(Classifier, self).__init__()\n",
    "#         self.drop = nn.Dropout(p=0.75)\n",
    "#         self.fc = nn.Linear(num_features, num_classes)\n",
    "        self.classifier = nn.Sequential(\n",
    "            \n",
    "            \n",
    "            nn.ReLU(),\n",
    "            nn.Dropout(p=0.5),\n",
    "            nn.Linear(num_features, num_classes),\n",
    "        )\n",
    "\n",
    "    def forward(self, x):\n",
    "#         print('x.size()', x.size())\n",
    "        x = x.view(x.size(0), -1)\n",
    "#         x = self.drop(x)\n",
    "        x =self.classifier(x)\n",
    "        return x\n",
    "\n",
    "model = Classifier(num_features, num_classes)\n",
    "print(model)\n",
    "\n",
    "# If you are running a GPU instance, load the model on GPU\n",
    "if use_gpu:\n",
    "    model.cuda()"
   ]
  },
  {
   "cell_type": "code",
   "execution_count": 176,
   "metadata": {},
   "outputs": [
    {
     "name": "stdout",
     "output_type": "stream",
     "text": [
      "Classifier(\n",
      "  (hidden): Linear(in_features=512, out_features=5, bias=True)\n",
      "  (out): Linear(in_features=5, out_features=102, bias=True)\n",
      ")\n"
     ]
    }
   ],
   "source": [
    "# #### Model ####\n",
    "import torch.nn as nn\n",
    "import torch.nn.functional as F\n",
    "# Feedforward Classifier\n",
    "class Classifier(nn.Module):\n",
    "    \"\"\"Resnet50 -> AvgPool -> FC()[Softmax]\n",
    "    \"\"\"\n",
    "    def __init__(self, num_features,H, num_classes):\n",
    "        super(Classifier, self).__init__()\n",
    "        self.hidden = torch.nn.Linear(num_features, H)   # hidden layer\n",
    "        self.out = torch.nn.Linear(H, num_classes)   # output layer\n",
    "        \n",
    "\n",
    "    def forward(self, x):\n",
    "        x = F.relu(self.hidden(x))      # activation function for hidden layer\n",
    "        x = self.out(x)\n",
    "        return x\n",
    "\n",
    "model = Classifier(num_features,5, num_classes)\n",
    "print(model)\n",
    "\n",
    "# If you are running a GPU instance, load the model on GPU\n",
    "if use_gpu:\n",
    "    model.cuda()"
   ]
  },
  {
   "cell_type": "code",
   "execution_count": 198,
   "metadata": {
    "collapsed": true
   },
   "outputs": [],
   "source": [
    "weights, biases = [], []\n",
    "for name, p in model.named_parameters():\n",
    "   if 'bias' in name:\n",
    "       biases += [p]\n",
    "   else:\n",
    "       weights += [p]\n",
    "\n",
    "criterion = nn.CrossEntropyLoss()\n",
    "optimizer_conv_adam = optim.SGD([\n",
    "  {'params': weights},\n",
    "  {'params': biases, weight_decay:0}\n",
    "], lr=1e-2, momentum=0.9, weight_decay=5e-5)\n",
    "\n",
    "def generator(features, labels, batch_size=32, shuffle=True):\n",
    "    labels = np.array(labels)\n",
    "    if shuffle:\n",
    "        index = np.random.permutation(len(features))\n",
    "        features = features[index]\n",
    "        labels = labels[index]\n",
    "    for i in range(0, len(features), batch_size):\n",
    "        yield (features[i:i+batch_size], labels[i:i+batch_size])\n",
    "\n",
    "        \n",
    "def train(model, dataset_sizes=None, train_features=None, train_labels=None, val_features=None, val_labels=None, criterion=None, optimizer=None, num_epochs=25, train=True, shuffle=None):\n",
    "    start = time.time()\n",
    "    best_model_weights = copy.deepcopy(model.state_dict())\n",
    "    best_accuracy = 0.0\n",
    "    for epoch in range(num_epochs):\n",
    "        print('Epoch {}/{}'.format(epoch, num_epochs -1))\n",
    "        print('-'*10)\n",
    "#         train_batches = generator(features=train_features, labels=train_labels, shuffle=shuffle, batch_size=batch_size)\n",
    "#         val_batches = generator(features=val_features, labels=val_labels, shuffle=False, batch_size=batch_size)\n",
    "        # Each epoch has a training and validation phase\n",
    "        for phase in ['train', 'val']:\n",
    "            running_loss = 0.0\n",
    "            running_corrects = 0\n",
    "            if phase == 'train':\n",
    "                train_batches = generator(features=train_features, labels=train_labels, shuffle=shuffle, batch_size=batch_size)\n",
    "                #scheduler.step()\n",
    "                model.train()\n",
    "                for data in train_batches:\n",
    "                    inputs, labels = data\n",
    "                    if use_gpu:\n",
    "                        inputs, labels = Variable(torch.from_numpy(inputs).cuda()), Variable(torch.from_numpy(labels).cuda())\n",
    "                    else:\n",
    "                        inputs, labels = Variable(torch.from_numpy(inputs)), Variable(torch.from_numpy(labels))\n",
    "                    outputs = model(inputs)\n",
    "                    loss = criterion(outputs, labels)\n",
    "                    optimizer = optimizer\n",
    "                    optimizer.zero_grad()\n",
    "                    _, preds = torch.max(outputs.data, 1)\n",
    "                    loss.backward()\n",
    "                    optimizer.step()\n",
    "                    running_loss += loss.data[0] * inputs.size(0)\n",
    "                    running_corrects += torch.sum(preds==labels.data)\n",
    "            else:\n",
    "                val_batches = generator(features=val_features, labels=val_labels, shuffle=False, batch_size=batch_size)\n",
    "                model.eval()\n",
    "                for data in val_batches:\n",
    "                    inputs, labels = data\n",
    "                    if use_gpu:\n",
    "                        inputs, labels = Variable(torch.from_numpy(inputs).cuda()), Variable(torch.from_numpy(labels).cuda())\n",
    "                    else:\n",
    "                        inputs, labels = Variable(torch.from_numpy(inputs)), Variable(torch.from_numpy(labels))\n",
    "                    outputs = model(inputs)\n",
    "                    _, preds = torch.max(outputs.data, 1)\n",
    "                    loss = criterion(outputs, labels)\n",
    "                    running_loss += loss.data[0] * inputs.size(0)\n",
    "                    running_corrects += torch.sum(preds==labels.data)\n",
    "            \n",
    "            # Iterate over data\n",
    "            epoch_loss = running_loss/dataset_sizes[phase]\n",
    "            epoch_accuracy = running_corrects/dataset_sizes[phase]\n",
    "            print('{} Loss: {:.4f} Acc: {:.4f}'.format(phase, epoch_loss, epoch_accuracy))\n",
    "            \n",
    "            if phase == 'val' and epoch_accuracy > best_accuracy:\n",
    "                best_accuracy = epoch_accuracy\n",
    "                best_model_weights = copy.deepcopy(model.state_dict())\n",
    "        print()\n",
    "    \n",
    "    run_time = time.time() - start\n",
    "    print('Training completed in {:.0f}m and {:.0f}s'.format(run_time//60, run_time%60))\n",
    "    print('Best Validation Accuracy: {:4f}'.format(best_accuracy))\n",
    "    model.load_state_dict(best_model_weights)\n",
    "    return model"
   ]
  },
  {
   "cell_type": "code",
   "execution_count": 199,
   "metadata": {},
   "outputs": [
    {
     "name": "stdout",
     "output_type": "stream",
     "text": [
      "Epoch 0/99\n",
      "----------\n"
     ]
    },
    {
     "name": "stderr",
     "output_type": "stream",
     "text": [
      "F:\\Anaconda3\\envs\\aipnd\\lib\\site-packages\\ipykernel_launcher.py:54: UserWarning: invalid index of a 0-dim tensor. This will be an error in PyTorch 0.5. Use tensor.item() to convert a 0-dim tensor to a Python number\n"
     ]
    },
    {
     "name": "stdout",
     "output_type": "stream",
     "text": [
      "train Loss: 10.8545 Acc: 0.0000\n",
      "val Loss: 4.7387 Acc: 0.0000\n",
      "\n",
      "Epoch 1/99\n",
      "----------\n"
     ]
    },
    {
     "name": "stderr",
     "output_type": "stream",
     "text": [
      "F:\\Anaconda3\\envs\\aipnd\\lib\\site-packages\\ipykernel_launcher.py:68: UserWarning: invalid index of a 0-dim tensor. This will be an error in PyTorch 0.5. Use tensor.item() to convert a 0-dim tensor to a Python number\n"
     ]
    },
    {
     "name": "stdout",
     "output_type": "stream",
     "text": [
      "train Loss: 11.4068 Acc: 0.0000\n",
      "val Loss: 4.5591 Acc: 0.0000\n",
      "\n",
      "Epoch 2/99\n",
      "----------\n",
      "train Loss: 11.5681 Acc: 0.0000\n",
      "val Loss: 4.9809 Acc: 0.0000\n",
      "\n",
      "Epoch 3/99\n",
      "----------\n",
      "train Loss: 11.6716 Acc: 0.0000\n",
      "val Loss: 6.5401 Acc: 0.0000\n",
      "\n",
      "Epoch 4/99\n",
      "----------\n",
      "train Loss: 11.9060 Acc: 0.0000\n",
      "val Loss: 5.6278 Acc: 0.0000\n",
      "\n",
      "Epoch 5/99\n",
      "----------\n",
      "train Loss: 11.9836 Acc: 0.0000\n",
      "val Loss: 5.3754 Acc: 0.0000\n",
      "\n",
      "Epoch 6/99\n",
      "----------\n",
      "train Loss: 11.9149 Acc: 0.0000\n",
      "val Loss: 5.3726 Acc: 0.0000\n",
      "\n",
      "Epoch 7/99\n",
      "----------\n",
      "train Loss: 11.9492 Acc: 0.0000\n",
      "val Loss: 6.2499 Acc: 0.0000\n",
      "\n",
      "Epoch 8/99\n",
      "----------\n",
      "train Loss: 11.9713 Acc: 0.0000\n",
      "val Loss: 4.4672 Acc: 0.0000\n",
      "\n",
      "Epoch 9/99\n",
      "----------\n",
      "train Loss: 11.8168 Acc: 0.0000\n",
      "val Loss: 5.0912 Acc: 0.0000\n",
      "\n",
      "Epoch 10/99\n",
      "----------\n",
      "train Loss: 12.0143 Acc: 0.0000\n",
      "val Loss: 5.9180 Acc: 0.0000\n",
      "\n",
      "Epoch 11/99\n",
      "----------\n",
      "train Loss: 11.9496 Acc: 0.0000\n",
      "val Loss: 5.9736 Acc: 0.0000\n",
      "\n",
      "Epoch 12/99\n",
      "----------\n",
      "train Loss: 12.4549 Acc: 0.0000\n",
      "val Loss: 5.0873 Acc: 0.0000\n",
      "\n",
      "Epoch 13/99\n",
      "----------\n",
      "train Loss: 11.9635 Acc: 0.0000\n",
      "val Loss: 5.8979 Acc: 0.0000\n",
      "\n",
      "Epoch 14/99\n",
      "----------\n",
      "train Loss: 12.2873 Acc: 0.0000\n",
      "val Loss: 4.7992 Acc: 0.0000\n",
      "\n",
      "Epoch 15/99\n",
      "----------\n",
      "train Loss: 12.1643 Acc: 0.0000\n",
      "val Loss: 6.1157 Acc: 0.0000\n",
      "\n",
      "Epoch 16/99\n",
      "----------\n",
      "train Loss: 12.2123 Acc: 0.0000\n",
      "val Loss: 5.3285 Acc: 0.0000\n",
      "\n",
      "Epoch 17/99\n",
      "----------\n",
      "train Loss: 12.5557 Acc: 0.0000\n",
      "val Loss: 4.9282 Acc: 0.0000\n",
      "\n",
      "Epoch 18/99\n",
      "----------\n",
      "train Loss: 12.3398 Acc: 0.0000\n",
      "val Loss: 4.9126 Acc: 0.0000\n",
      "\n",
      "Epoch 19/99\n",
      "----------\n",
      "train Loss: 12.5413 Acc: 0.0000\n",
      "val Loss: 5.1406 Acc: 0.0000\n",
      "\n",
      "Epoch 20/99\n",
      "----------\n",
      "train Loss: 12.5059 Acc: 0.0000\n",
      "val Loss: 5.4466 Acc: 0.0000\n",
      "\n",
      "Epoch 21/99\n",
      "----------\n",
      "train Loss: 12.4447 Acc: 0.0000\n",
      "val Loss: 5.9308 Acc: 0.0000\n",
      "\n",
      "Epoch 22/99\n",
      "----------\n",
      "train Loss: 12.6124 Acc: 0.0000\n",
      "val Loss: 5.3386 Acc: 0.0000\n",
      "\n",
      "Epoch 23/99\n",
      "----------\n",
      "train Loss: 12.4968 Acc: 0.0000\n",
      "val Loss: 5.8671 Acc: 0.0000\n",
      "\n",
      "Epoch 24/99\n",
      "----------\n",
      "train Loss: 12.1171 Acc: 0.0000\n",
      "val Loss: 5.3226 Acc: 0.0000\n",
      "\n",
      "Epoch 25/99\n",
      "----------\n",
      "train Loss: 12.4767 Acc: 0.0000\n",
      "val Loss: 6.5907 Acc: 0.0000\n",
      "\n",
      "Epoch 26/99\n",
      "----------\n",
      "train Loss: 12.5057 Acc: 0.0000\n",
      "val Loss: 5.3756 Acc: 0.0000\n",
      "\n",
      "Epoch 27/99\n",
      "----------\n",
      "train Loss: 12.5810 Acc: 0.0000\n",
      "val Loss: 4.9658 Acc: 0.0000\n",
      "\n",
      "Epoch 28/99\n",
      "----------\n",
      "train Loss: 12.6293 Acc: 0.0000\n",
      "val Loss: 5.8418 Acc: 0.0000\n",
      "\n",
      "Epoch 29/99\n",
      "----------\n",
      "train Loss: 12.2809 Acc: 0.0000\n",
      "val Loss: 5.0314 Acc: 0.0000\n",
      "\n",
      "Epoch 30/99\n",
      "----------\n",
      "train Loss: 12.4669 Acc: 0.0000\n",
      "val Loss: 6.5590 Acc: 0.0000\n",
      "\n",
      "Epoch 31/99\n",
      "----------\n",
      "train Loss: 12.4108 Acc: 0.0000\n",
      "val Loss: 5.4464 Acc: 0.0000\n",
      "\n",
      "Epoch 32/99\n",
      "----------\n",
      "train Loss: 12.4335 Acc: 0.0000\n",
      "val Loss: 5.1036 Acc: 0.0000\n",
      "\n",
      "Epoch 33/99\n",
      "----------\n",
      "train Loss: 12.4429 Acc: 0.0000\n",
      "val Loss: 4.2795 Acc: 0.0000\n",
      "\n",
      "Epoch 34/99\n",
      "----------\n",
      "train Loss: 12.3031 Acc: 0.0000\n",
      "val Loss: 4.9920 Acc: 0.0000\n",
      "\n",
      "Epoch 35/99\n",
      "----------\n",
      "train Loss: 12.4502 Acc: 0.0000\n",
      "val Loss: 4.9179 Acc: 0.0000\n",
      "\n",
      "Epoch 36/99\n",
      "----------\n",
      "train Loss: 12.5344 Acc: 0.0000\n",
      "val Loss: 4.5650 Acc: 0.0000\n",
      "\n",
      "Epoch 37/99\n",
      "----------\n",
      "train Loss: 12.5939 Acc: 0.0000\n",
      "val Loss: 5.3304 Acc: 0.0000\n",
      "\n",
      "Epoch 38/99\n",
      "----------\n",
      "train Loss: 12.4121 Acc: 0.0000\n",
      "val Loss: 5.2043 Acc: 0.0000\n",
      "\n",
      "Epoch 39/99\n",
      "----------\n",
      "train Loss: 12.8261 Acc: 0.0000\n",
      "val Loss: 5.8969 Acc: 0.0000\n",
      "\n",
      "Epoch 40/99\n",
      "----------\n",
      "train Loss: 12.4810 Acc: 0.0000\n",
      "val Loss: 5.9138 Acc: 0.0000\n",
      "\n",
      "Epoch 41/99\n",
      "----------\n",
      "train Loss: 12.8131 Acc: 0.0000\n",
      "val Loss: 6.1305 Acc: 0.0000\n",
      "\n",
      "Epoch 42/99\n",
      "----------\n",
      "train Loss: 12.5087 Acc: 0.0000\n",
      "val Loss: 5.6327 Acc: 0.0000\n",
      "\n",
      "Epoch 43/99\n",
      "----------\n",
      "train Loss: 12.6439 Acc: 0.0000\n",
      "val Loss: 5.8811 Acc: 0.0000\n",
      "\n",
      "Epoch 44/99\n",
      "----------\n",
      "train Loss: 12.2825 Acc: 0.0000\n",
      "val Loss: 5.6909 Acc: 0.0000\n",
      "\n",
      "Epoch 45/99\n",
      "----------\n",
      "train Loss: 12.9557 Acc: 0.0000\n",
      "val Loss: 5.3022 Acc: 0.0000\n",
      "\n",
      "Epoch 46/99\n",
      "----------\n",
      "train Loss: 12.0974 Acc: 0.0000\n",
      "val Loss: 5.4730 Acc: 0.0000\n",
      "\n",
      "Epoch 47/99\n",
      "----------\n",
      "train Loss: 12.7103 Acc: 0.0000\n",
      "val Loss: 5.5336 Acc: 0.0000\n",
      "\n",
      "Epoch 48/99\n",
      "----------\n",
      "train Loss: 12.5686 Acc: 0.0000\n",
      "val Loss: 4.6465 Acc: 0.0000\n",
      "\n",
      "Epoch 49/99\n",
      "----------\n",
      "train Loss: 12.5743 Acc: 0.0000\n",
      "val Loss: 5.6076 Acc: 0.0000\n",
      "\n",
      "Epoch 50/99\n",
      "----------\n",
      "train Loss: 12.3732 Acc: 0.0000\n",
      "val Loss: 5.0356 Acc: 0.0000\n",
      "\n",
      "Epoch 51/99\n",
      "----------\n",
      "train Loss: 12.5584 Acc: 0.0000\n",
      "val Loss: 5.8990 Acc: 0.0000\n",
      "\n",
      "Epoch 52/99\n",
      "----------\n",
      "train Loss: 12.7376 Acc: 0.0000\n",
      "val Loss: 5.5000 Acc: 0.0000\n",
      "\n",
      "Epoch 53/99\n",
      "----------\n",
      "train Loss: 12.7384 Acc: 0.0000\n",
      "val Loss: 5.7112 Acc: 0.0000\n",
      "\n",
      "Epoch 54/99\n",
      "----------\n",
      "train Loss: 12.7731 Acc: 0.0000\n",
      "val Loss: 6.3348 Acc: 0.0000\n",
      "\n",
      "Epoch 55/99\n",
      "----------\n",
      "train Loss: 12.6333 Acc: 0.0000\n",
      "val Loss: 5.4485 Acc: 0.0000\n",
      "\n",
      "Epoch 56/99\n",
      "----------\n",
      "train Loss: 12.9119 Acc: 0.0000\n",
      "val Loss: 5.0874 Acc: 0.0000\n",
      "\n",
      "Epoch 57/99\n",
      "----------\n",
      "train Loss: 12.2794 Acc: 0.0000\n",
      "val Loss: 4.8425 Acc: 0.0000\n",
      "\n",
      "Epoch 58/99\n",
      "----------\n",
      "train Loss: 12.7946 Acc: 0.0000\n",
      "val Loss: 4.8027 Acc: 0.0000\n",
      "\n",
      "Epoch 59/99\n",
      "----------\n",
      "train Loss: 12.5130 Acc: 0.0000\n",
      "val Loss: 5.5746 Acc: 0.0000\n",
      "\n",
      "Epoch 60/99\n",
      "----------\n",
      "train Loss: 12.7819 Acc: 0.0000\n",
      "val Loss: 5.2228 Acc: 0.0000\n",
      "\n",
      "Epoch 61/99\n",
      "----------\n",
      "train Loss: 12.6575 Acc: 0.0000\n",
      "val Loss: 5.0440 Acc: 0.0000\n",
      "\n",
      "Epoch 62/99\n",
      "----------\n",
      "train Loss: 12.6642 Acc: 0.0000\n",
      "val Loss: 4.7665 Acc: 0.0000\n",
      "\n",
      "Epoch 63/99\n",
      "----------\n",
      "train Loss: 12.8247 Acc: 0.0000\n",
      "val Loss: 5.1289 Acc: 0.0000\n",
      "\n",
      "Epoch 64/99\n",
      "----------\n",
      "train Loss: 12.8544 Acc: 0.0000\n",
      "val Loss: 5.4766 Acc: 0.0000\n",
      "\n",
      "Epoch 65/99\n",
      "----------\n",
      "train Loss: 12.6306 Acc: 0.0000\n",
      "val Loss: 6.1067 Acc: 0.0000\n",
      "\n",
      "Epoch 66/99\n",
      "----------\n",
      "train Loss: 12.7346 Acc: 0.0000\n",
      "val Loss: 5.2303 Acc: 0.0000\n",
      "\n",
      "Epoch 67/99\n",
      "----------\n",
      "train Loss: 12.5178 Acc: 0.0000\n",
      "val Loss: 6.8531 Acc: 0.0000\n",
      "\n",
      "Epoch 68/99\n",
      "----------\n",
      "train Loss: 12.6201 Acc: 0.0000\n",
      "val Loss: 4.8757 Acc: 0.0000\n",
      "\n",
      "Epoch 69/99\n",
      "----------\n",
      "train Loss: 12.8052 Acc: 0.0000\n",
      "val Loss: 4.5967 Acc: 0.0000\n",
      "\n",
      "Epoch 70/99\n",
      "----------\n",
      "train Loss: 12.5842 Acc: 0.0000\n",
      "val Loss: 4.6542 Acc: 0.0000\n",
      "\n",
      "Epoch 71/99\n",
      "----------\n",
      "train Loss: 12.8472 Acc: 0.0000\n",
      "val Loss: 5.2781 Acc: 0.0000\n",
      "\n",
      "Epoch 72/99\n",
      "----------\n",
      "train Loss: 12.7644 Acc: 0.0000\n",
      "val Loss: 5.9134 Acc: 0.0000\n",
      "\n",
      "Epoch 73/99\n",
      "----------\n",
      "train Loss: 12.6882 Acc: 0.0000\n",
      "val Loss: 5.1435 Acc: 0.0000\n",
      "\n",
      "Epoch 74/99\n",
      "----------\n",
      "train Loss: 12.7014 Acc: 0.0000\n",
      "val Loss: 6.2685 Acc: 0.0000\n",
      "\n",
      "Epoch 75/99\n",
      "----------\n",
      "train Loss: 12.6536 Acc: 0.0000\n",
      "val Loss: 5.0443 Acc: 0.0000\n",
      "\n",
      "Epoch 76/99\n",
      "----------\n",
      "train Loss: 12.7083 Acc: 0.0000\n",
      "val Loss: 5.8177 Acc: 0.0000\n",
      "\n",
      "Epoch 77/99\n",
      "----------\n",
      "train Loss: 12.7605 Acc: 0.0000\n",
      "val Loss: 5.9648 Acc: 0.0000\n",
      "\n",
      "Epoch 78/99\n",
      "----------\n",
      "train Loss: 12.8978 Acc: 0.0000\n",
      "val Loss: 5.1579 Acc: 0.0000\n",
      "\n",
      "Epoch 79/99\n",
      "----------\n",
      "train Loss: 12.6187 Acc: 0.0000\n",
      "val Loss: 5.5293 Acc: 0.0000\n",
      "\n",
      "Epoch 80/99\n",
      "----------\n",
      "train Loss: 12.8595 Acc: 0.0000\n",
      "val Loss: 6.8658 Acc: 0.0000\n",
      "\n",
      "Epoch 81/99\n",
      "----------\n",
      "train Loss: 12.7510 Acc: 0.0000\n",
      "val Loss: 5.6694 Acc: 0.0000\n",
      "\n",
      "Epoch 82/99\n",
      "----------\n",
      "train Loss: 12.8127 Acc: 0.0000\n",
      "val Loss: 6.3185 Acc: 0.0000\n",
      "\n",
      "Epoch 83/99\n",
      "----------\n",
      "train Loss: 12.7762 Acc: 0.0000\n",
      "val Loss: 5.3304 Acc: 0.0000\n",
      "\n",
      "Epoch 84/99\n",
      "----------\n",
      "train Loss: 12.5611 Acc: 0.0000\n",
      "val Loss: 5.1522 Acc: 0.0000\n",
      "\n",
      "Epoch 85/99\n",
      "----------\n",
      "train Loss: 12.6429 Acc: 0.0000\n",
      "val Loss: 5.2339 Acc: 0.0000\n",
      "\n",
      "Epoch 86/99\n",
      "----------\n",
      "train Loss: 12.5322 Acc: 0.0000\n",
      "val Loss: 5.7270 Acc: 0.0000\n",
      "\n",
      "Epoch 87/99\n",
      "----------\n",
      "train Loss: 12.6800 Acc: 0.0000\n",
      "val Loss: 6.3397 Acc: 0.0000\n",
      "\n",
      "Epoch 88/99\n",
      "----------\n",
      "train Loss: 12.7185 Acc: 0.0000\n",
      "val Loss: 6.8767 Acc: 0.0000\n",
      "\n",
      "Epoch 89/99\n",
      "----------\n",
      "train Loss: 12.6594 Acc: 0.0000\n",
      "val Loss: 5.8680 Acc: 0.0000\n",
      "\n",
      "Epoch 90/99\n",
      "----------\n",
      "train Loss: 12.8364 Acc: 0.0000\n",
      "val Loss: 5.5347 Acc: 0.0000\n",
      "\n",
      "Epoch 91/99\n",
      "----------\n",
      "train Loss: 12.6088 Acc: 0.0000\n",
      "val Loss: 5.5234 Acc: 0.0000\n",
      "\n",
      "Epoch 92/99\n",
      "----------\n",
      "train Loss: 12.8925 Acc: 0.0000\n",
      "val Loss: 5.5266 Acc: 0.0000\n",
      "\n",
      "Epoch 93/99\n",
      "----------\n",
      "train Loss: 12.7846 Acc: 0.0000\n",
      "val Loss: 7.0699 Acc: 0.0000\n",
      "\n",
      "Epoch 94/99\n",
      "----------\n",
      "train Loss: 12.5927 Acc: 0.0000\n",
      "val Loss: 6.3158 Acc: 0.0000\n",
      "\n",
      "Epoch 95/99\n",
      "----------\n",
      "train Loss: 12.2634 Acc: 0.0000\n",
      "val Loss: 5.3561 Acc: 0.0000\n",
      "\n",
      "Epoch 96/99\n",
      "----------\n",
      "train Loss: 12.8694 Acc: 0.0000\n",
      "val Loss: 7.1175 Acc: 0.0000\n",
      "\n",
      "Epoch 97/99\n",
      "----------\n",
      "train Loss: 12.6294 Acc: 0.0000\n",
      "val Loss: 5.4541 Acc: 0.0000\n",
      "\n",
      "Epoch 98/99\n",
      "----------\n"
     ]
    },
    {
     "name": "stdout",
     "output_type": "stream",
     "text": [
      "train Loss: 12.7542 Acc: 0.0000\n",
      "val Loss: 4.9987 Acc: 0.0000\n",
      "\n",
      "Epoch 99/99\n",
      "----------\n",
      "train Loss: 12.7157 Acc: 0.0000\n",
      "val Loss: 5.8295 Acc: 0.0000\n",
      "\n",
      "Training completed in 3m and 43s\n",
      "Best Validation Accuracy: 0.000000\n"
     ]
    },
    {
     "data": {
      "text/plain": [
       "Classifier(\n",
       "  (classifier): Sequential(\n",
       "    (0): ReLU()\n",
       "    (1): Dropout(p=0.5)\n",
       "    (2): Linear(in_features=512, out_features=102, bias=True)\n",
       "  )\n",
       ")"
      ]
     },
     "execution_count": 199,
     "metadata": {},
     "output_type": "execute_result"
    }
   ],
   "source": [
    "train(model,dataset_sizes=dataset_sizes, train_features=conv_feat_train, train_labels=labels_train, val_features=conv_feat_val, val_labels=labels_val, criterion=criterion, optimizer=optimizer_conv_adam, num_epochs=num_epochs, train=True, shuffle=True)"
   ]
  },
  {
   "cell_type": "code",
   "execution_count": 114,
   "metadata": {},
   "outputs": [
    {
     "name": "stderr",
     "output_type": "stream",
     "text": [
      "Downloading: \"https://download.pytorch.org/models/resnet50-19c8e357.pth\" to C:\\Users\\survesh/.torch\\models\\resnet50-19c8e357.pth\n",
      "100.0%\n"
     ]
    }
   ],
   "source": [
    "model_conv = models.resnet50(pretrained=True)\n",
    "for param in model_conv.parameters():\n",
    "    param.requires_grad = False\n",
    "num_features = model_conv.fc.in_features\n",
    "model_conv.fc = nn.Linear(num_features, num_classes)\n",
    "if use_gpu:\n",
    "    model_conv = model_conv.cuda()\n",
    "criterion = nn.CrossEntropyLoss()\n",
    "# optimizer_conv = optim.SGD(model_conv.fc.parameters(), lr=learning_rate, momentum=0.9)\n",
    "optimizer_conv_adam = optim.Adam(model_conv.fc.parameters(), lr=learning_rate)\n",
    "exp_lr_scheduler = lr_scheduler.StepLR(optimizer_conv_adam, step_size=step_size, gamma=gamma)"
   ]
  },
  {
   "cell_type": "code",
   "execution_count": 115,
   "metadata": {},
   "outputs": [
    {
     "name": "stdout",
     "output_type": "stream",
     "text": [
      "Epoch 0/99\n",
      "----------\n"
     ]
    },
    {
     "name": "stderr",
     "output_type": "stream",
     "text": [
      "F:\\Anaconda3\\envs\\aipnd\\lib\\site-packages\\ipykernel_launcher.py:46: UserWarning: invalid index of a 0-dim tensor. This will be an error in PyTorch 0.5. Use tensor.item() to convert a 0-dim tensor to a Python number\n"
     ]
    },
    {
     "ename": "KeyboardInterrupt",
     "evalue": "",
     "output_type": "error",
     "traceback": [
      "\u001b[1;31m---------------------------------------------------------------------------\u001b[0m",
      "\u001b[1;31mKeyboardInterrupt\u001b[0m                         Traceback (most recent call last)",
      "\u001b[1;32m<ipython-input-115-74ea05b12b70>\u001b[0m in \u001b[0;36m<module>\u001b[1;34m()\u001b[0m\n\u001b[1;32m----> 1\u001b[1;33m \u001b[0mmodel_conv\u001b[0m \u001b[1;33m=\u001b[0m \u001b[0mtrain_model\u001b[0m\u001b[1;33m(\u001b[0m\u001b[0mmodel_conv\u001b[0m\u001b[1;33m,\u001b[0m \u001b[0mcriterion\u001b[0m\u001b[1;33m,\u001b[0m \u001b[0moptimizer_conv_adam\u001b[0m\u001b[1;33m,\u001b[0m \u001b[0mexp_lr_scheduler\u001b[0m\u001b[1;33m,\u001b[0m \u001b[0mnum_epochs\u001b[0m\u001b[1;33m=\u001b[0m\u001b[0mnum_epochs\u001b[0m\u001b[1;33m)\u001b[0m\u001b[1;33m\u001b[0m\u001b[0m\n\u001b[0m\u001b[0;32m      2\u001b[0m \u001b[1;31m# Saving The Model:\u001b[0m\u001b[1;33m\u001b[0m\u001b[1;33m\u001b[0m\u001b[0m\n\u001b[0;32m      3\u001b[0m \u001b[0mtorch\u001b[0m\u001b[1;33m.\u001b[0m\u001b[0msave\u001b[0m\u001b[1;33m(\u001b[0m\u001b[0mmodel_conv\u001b[0m\u001b[1;33m.\u001b[0m\u001b[0mstate_dict\u001b[0m\u001b[1;33m(\u001b[0m\u001b[1;33m)\u001b[0m\u001b[1;33m,\u001b[0m \u001b[0mmodel_weights_path\u001b[0m\u001b[1;33m)\u001b[0m\u001b[1;33m\u001b[0m\u001b[0m\n\u001b[0;32m      4\u001b[0m \u001b[0mmodel\u001b[0m \u001b[1;33m=\u001b[0m \u001b[0mtorch\u001b[0m\u001b[1;33m.\u001b[0m\u001b[0mload\u001b[0m\u001b[1;33m(\u001b[0m\u001b[0mmodel_weights_path\u001b[0m\u001b[1;33m)\u001b[0m\u001b[1;33m\u001b[0m\u001b[0m\n",
      "\u001b[1;32m<ipython-input-90-443853acc6b7>\u001b[0m in \u001b[0;36mtrain_model\u001b[1;34m(model, criterion, optimizer, scheduler, num_epochs)\u001b[0m\n\u001b[0;32m     34\u001b[0m                 \u001b[0moptimizer\u001b[0m\u001b[1;33m.\u001b[0m\u001b[0mzero_grad\u001b[0m\u001b[1;33m(\u001b[0m\u001b[1;33m)\u001b[0m\u001b[1;33m\u001b[0m\u001b[0m\n\u001b[0;32m     35\u001b[0m                 \u001b[1;31m# forward\u001b[0m\u001b[1;33m\u001b[0m\u001b[1;33m\u001b[0m\u001b[0m\n\u001b[1;32m---> 36\u001b[1;33m                 \u001b[0moutputs\u001b[0m \u001b[1;33m=\u001b[0m \u001b[0mmodel\u001b[0m\u001b[1;33m(\u001b[0m\u001b[0minputs\u001b[0m\u001b[1;33m)\u001b[0m\u001b[1;33m\u001b[0m\u001b[0m\n\u001b[0m\u001b[0;32m     37\u001b[0m                 \u001b[0m_\u001b[0m\u001b[1;33m,\u001b[0m \u001b[0mpreds\u001b[0m \u001b[1;33m=\u001b[0m \u001b[0mtorch\u001b[0m\u001b[1;33m.\u001b[0m\u001b[0mmax\u001b[0m\u001b[1;33m(\u001b[0m\u001b[0moutputs\u001b[0m\u001b[1;33m.\u001b[0m\u001b[0mdata\u001b[0m\u001b[1;33m,\u001b[0m \u001b[1;36m1\u001b[0m\u001b[1;33m)\u001b[0m\u001b[1;33m\u001b[0m\u001b[0m\n\u001b[0;32m     38\u001b[0m                 \u001b[0mloss\u001b[0m \u001b[1;33m=\u001b[0m \u001b[0mcriterion\u001b[0m\u001b[1;33m(\u001b[0m\u001b[0moutputs\u001b[0m\u001b[1;33m,\u001b[0m \u001b[0mlabels\u001b[0m\u001b[1;33m)\u001b[0m\u001b[1;33m\u001b[0m\u001b[0m\n",
      "\u001b[1;32mF:\\Anaconda3\\envs\\aipnd\\lib\\site-packages\\torch\\nn\\modules\\module.py\u001b[0m in \u001b[0;36m__call__\u001b[1;34m(self, *input, **kwargs)\u001b[0m\n\u001b[0;32m    489\u001b[0m             \u001b[0mresult\u001b[0m \u001b[1;33m=\u001b[0m \u001b[0mself\u001b[0m\u001b[1;33m.\u001b[0m\u001b[0m_slow_forward\u001b[0m\u001b[1;33m(\u001b[0m\u001b[1;33m*\u001b[0m\u001b[0minput\u001b[0m\u001b[1;33m,\u001b[0m \u001b[1;33m**\u001b[0m\u001b[0mkwargs\u001b[0m\u001b[1;33m)\u001b[0m\u001b[1;33m\u001b[0m\u001b[0m\n\u001b[0;32m    490\u001b[0m         \u001b[1;32melse\u001b[0m\u001b[1;33m:\u001b[0m\u001b[1;33m\u001b[0m\u001b[0m\n\u001b[1;32m--> 491\u001b[1;33m             \u001b[0mresult\u001b[0m \u001b[1;33m=\u001b[0m \u001b[0mself\u001b[0m\u001b[1;33m.\u001b[0m\u001b[0mforward\u001b[0m\u001b[1;33m(\u001b[0m\u001b[1;33m*\u001b[0m\u001b[0minput\u001b[0m\u001b[1;33m,\u001b[0m \u001b[1;33m**\u001b[0m\u001b[0mkwargs\u001b[0m\u001b[1;33m)\u001b[0m\u001b[1;33m\u001b[0m\u001b[0m\n\u001b[0m\u001b[0;32m    492\u001b[0m         \u001b[1;32mfor\u001b[0m \u001b[0mhook\u001b[0m \u001b[1;32min\u001b[0m \u001b[0mself\u001b[0m\u001b[1;33m.\u001b[0m\u001b[0m_forward_hooks\u001b[0m\u001b[1;33m.\u001b[0m\u001b[0mvalues\u001b[0m\u001b[1;33m(\u001b[0m\u001b[1;33m)\u001b[0m\u001b[1;33m:\u001b[0m\u001b[1;33m\u001b[0m\u001b[0m\n\u001b[0;32m    493\u001b[0m             \u001b[0mhook_result\u001b[0m \u001b[1;33m=\u001b[0m \u001b[0mhook\u001b[0m\u001b[1;33m(\u001b[0m\u001b[0mself\u001b[0m\u001b[1;33m,\u001b[0m \u001b[0minput\u001b[0m\u001b[1;33m,\u001b[0m \u001b[0mresult\u001b[0m\u001b[1;33m)\u001b[0m\u001b[1;33m\u001b[0m\u001b[0m\n",
      "\u001b[1;32mF:\\Anaconda3\\envs\\aipnd\\lib\\site-packages\\torchvision\\models\\resnet.py\u001b[0m in \u001b[0;36mforward\u001b[1;34m(self, x)\u001b[0m\n\u001b[0;32m    137\u001b[0m \u001b[1;33m\u001b[0m\u001b[0m\n\u001b[0;32m    138\u001b[0m     \u001b[1;32mdef\u001b[0m \u001b[0mforward\u001b[0m\u001b[1;33m(\u001b[0m\u001b[0mself\u001b[0m\u001b[1;33m,\u001b[0m \u001b[0mx\u001b[0m\u001b[1;33m)\u001b[0m\u001b[1;33m:\u001b[0m\u001b[1;33m\u001b[0m\u001b[0m\n\u001b[1;32m--> 139\u001b[1;33m         \u001b[0mx\u001b[0m \u001b[1;33m=\u001b[0m \u001b[0mself\u001b[0m\u001b[1;33m.\u001b[0m\u001b[0mconv1\u001b[0m\u001b[1;33m(\u001b[0m\u001b[0mx\u001b[0m\u001b[1;33m)\u001b[0m\u001b[1;33m\u001b[0m\u001b[0m\n\u001b[0m\u001b[0;32m    140\u001b[0m         \u001b[0mx\u001b[0m \u001b[1;33m=\u001b[0m \u001b[0mself\u001b[0m\u001b[1;33m.\u001b[0m\u001b[0mbn1\u001b[0m\u001b[1;33m(\u001b[0m\u001b[0mx\u001b[0m\u001b[1;33m)\u001b[0m\u001b[1;33m\u001b[0m\u001b[0m\n\u001b[0;32m    141\u001b[0m         \u001b[0mx\u001b[0m \u001b[1;33m=\u001b[0m \u001b[0mself\u001b[0m\u001b[1;33m.\u001b[0m\u001b[0mrelu\u001b[0m\u001b[1;33m(\u001b[0m\u001b[0mx\u001b[0m\u001b[1;33m)\u001b[0m\u001b[1;33m\u001b[0m\u001b[0m\n",
      "\u001b[1;32mF:\\Anaconda3\\envs\\aipnd\\lib\\site-packages\\torch\\nn\\modules\\module.py\u001b[0m in \u001b[0;36m__call__\u001b[1;34m(self, *input, **kwargs)\u001b[0m\n\u001b[0;32m    489\u001b[0m             \u001b[0mresult\u001b[0m \u001b[1;33m=\u001b[0m \u001b[0mself\u001b[0m\u001b[1;33m.\u001b[0m\u001b[0m_slow_forward\u001b[0m\u001b[1;33m(\u001b[0m\u001b[1;33m*\u001b[0m\u001b[0minput\u001b[0m\u001b[1;33m,\u001b[0m \u001b[1;33m**\u001b[0m\u001b[0mkwargs\u001b[0m\u001b[1;33m)\u001b[0m\u001b[1;33m\u001b[0m\u001b[0m\n\u001b[0;32m    490\u001b[0m         \u001b[1;32melse\u001b[0m\u001b[1;33m:\u001b[0m\u001b[1;33m\u001b[0m\u001b[0m\n\u001b[1;32m--> 491\u001b[1;33m             \u001b[0mresult\u001b[0m \u001b[1;33m=\u001b[0m \u001b[0mself\u001b[0m\u001b[1;33m.\u001b[0m\u001b[0mforward\u001b[0m\u001b[1;33m(\u001b[0m\u001b[1;33m*\u001b[0m\u001b[0minput\u001b[0m\u001b[1;33m,\u001b[0m \u001b[1;33m**\u001b[0m\u001b[0mkwargs\u001b[0m\u001b[1;33m)\u001b[0m\u001b[1;33m\u001b[0m\u001b[0m\n\u001b[0m\u001b[0;32m    492\u001b[0m         \u001b[1;32mfor\u001b[0m \u001b[0mhook\u001b[0m \u001b[1;32min\u001b[0m \u001b[0mself\u001b[0m\u001b[1;33m.\u001b[0m\u001b[0m_forward_hooks\u001b[0m\u001b[1;33m.\u001b[0m\u001b[0mvalues\u001b[0m\u001b[1;33m(\u001b[0m\u001b[1;33m)\u001b[0m\u001b[1;33m:\u001b[0m\u001b[1;33m\u001b[0m\u001b[0m\n\u001b[0;32m    493\u001b[0m             \u001b[0mhook_result\u001b[0m \u001b[1;33m=\u001b[0m \u001b[0mhook\u001b[0m\u001b[1;33m(\u001b[0m\u001b[0mself\u001b[0m\u001b[1;33m,\u001b[0m \u001b[0minput\u001b[0m\u001b[1;33m,\u001b[0m \u001b[0mresult\u001b[0m\u001b[1;33m)\u001b[0m\u001b[1;33m\u001b[0m\u001b[0m\n",
      "\u001b[1;32mF:\\Anaconda3\\envs\\aipnd\\lib\\site-packages\\torch\\nn\\modules\\conv.py\u001b[0m in \u001b[0;36mforward\u001b[1;34m(self, input)\u001b[0m\n\u001b[0;32m    299\u001b[0m     \u001b[1;32mdef\u001b[0m \u001b[0mforward\u001b[0m\u001b[1;33m(\u001b[0m\u001b[0mself\u001b[0m\u001b[1;33m,\u001b[0m \u001b[0minput\u001b[0m\u001b[1;33m)\u001b[0m\u001b[1;33m:\u001b[0m\u001b[1;33m\u001b[0m\u001b[0m\n\u001b[0;32m    300\u001b[0m         return F.conv2d(input, self.weight, self.bias, self.stride,\n\u001b[1;32m--> 301\u001b[1;33m                         self.padding, self.dilation, self.groups)\n\u001b[0m\u001b[0;32m    302\u001b[0m \u001b[1;33m\u001b[0m\u001b[0m\n\u001b[0;32m    303\u001b[0m \u001b[1;33m\u001b[0m\u001b[0m\n",
      "\u001b[1;31mKeyboardInterrupt\u001b[0m: "
     ]
    }
   ],
   "source": [
    "model_conv = train_model(model_conv, criterion, optimizer_conv_adam, exp_lr_scheduler, num_epochs=num_epochs)\n",
    "# Saving The Model:\n",
    "torch.save(model_conv.state_dict(), model_weights_path)\n",
    "model = torch.load(model_weights_path)"
   ]
  },
  {
   "cell_type": "code",
   "execution_count": null,
   "metadata": {
    "collapsed": true
   },
   "outputs": [],
   "source": [
    "use_gpu=False\n",
    "inputs, classes = next(iter(dataloaders['train']))\n",
    "criterion = nn.CrossEntropyLoss()\n",
    "# Observe that all parameters are being optimized\n",
    "optimizer_ft = optim.SGD(model_ft.parameters(), lr=0.001, momentum=0.9)\n",
    "exp_lr_scheduler = lr_scheduler.StepLR(optimizer_ft, step_size=7, gamma=0.1)\n",
    "model_ft = train_model(model_ft, criterion, optimizer_ft, exp_lr_scheduler, num_epochs=1)"
   ]
  },
  {
   "cell_type": "markdown",
   "metadata": {},
   "source": [
    "## Testing your network\n",
    "\n",
    "It's good practice to test your trained network on test data, images the network has never seen either in training or validation. This will give you a good estimate for the model's performance on completely new images. Run the test images through the network and measure the accuracy, the same way you did validation. You should be able to reach around 70% accuracy on the test set if the model has been trained well."
   ]
  },
  {
   "cell_type": "code",
   "execution_count": null,
   "metadata": {
    "collapsed": true
   },
   "outputs": [],
   "source": [
    "# TODO: Do validation on the test set"
   ]
  },
  {
   "cell_type": "markdown",
   "metadata": {},
   "source": [
    "## Save the checkpoint\n",
    "\n",
    "Now that your network is trained, save the model so you can load it later for making predictions. You probably want to save other things such as the mapping of classes to indices which you get from one of the image datasets: `image_datasets['train'].class_to_idx`. You can attach this to the model as an attribute which makes inference easier later on.\n",
    "\n",
    "```model.class_to_idx = image_datasets['train'].class_to_idx```\n",
    "\n",
    "Remember that you'll want to completely rebuild the model later so you can use it for inference. Make sure to include any information you need in the checkpoint. If you want to load the model and keep training, you'll want to save the number of epochs as well as the optimizer state, `optimizer.state_dict`. You'll likely want to use this trained model in the next part of the project, so best to save it now."
   ]
  },
  {
   "cell_type": "code",
   "execution_count": null,
   "metadata": {
    "collapsed": true
   },
   "outputs": [],
   "source": [
    "# TODO: Save the checkpoint "
   ]
  },
  {
   "cell_type": "markdown",
   "metadata": {},
   "source": [
    "## Loading the checkpoint\n",
    "\n",
    "At this point it's good to write a function that can load a checkpoint and rebuild the model. That way you can come back to this project and keep working on it without having to retrain the network."
   ]
  },
  {
   "cell_type": "code",
   "execution_count": null,
   "metadata": {
    "collapsed": true
   },
   "outputs": [],
   "source": [
    "# TODO: Write a function that loads a checkpoint and rebuilds the model"
   ]
  },
  {
   "cell_type": "markdown",
   "metadata": {},
   "source": [
    "# Inference for classification\n",
    "\n",
    "Now you'll write a function to use a trained network for inference. That is, you'll pass an image into the network and predict the class of the flower in the image. Write a function called `predict` that takes an image and a model, then returns the top $K$ most likely classes along with the probabilities. It should look like \n",
    "\n",
    "```python\n",
    "probs, classes = predict(image_path, model)\n",
    "print(probs)\n",
    "print(classes)\n",
    "> [ 0.01558163  0.01541934  0.01452626  0.01443549  0.01407339]\n",
    "> ['70', '3', '45', '62', '55']\n",
    "```\n",
    "\n",
    "First you'll need to handle processing the input image such that it can be used in your network. \n",
    "\n",
    "## Image Preprocessing\n",
    "\n",
    "You'll want to use `PIL` to load the image ([documentation](https://pillow.readthedocs.io/en/latest/reference/Image.html)). It's best to write a function that preprocesses the image so it can be used as input for the model. This function should process the images in the same manner used for training. \n",
    "\n",
    "First, resize the images where the shortest side is 256 pixels, keeping the aspect ratio. This can be done with the [`thumbnail`](http://pillow.readthedocs.io/en/3.1.x/reference/Image.html#PIL.Image.Image.thumbnail) or [`resize`](http://pillow.readthedocs.io/en/3.1.x/reference/Image.html#PIL.Image.Image.thumbnail) methods. Then you'll need to crop out the center 224x224 portion of the image.\n",
    "\n",
    "Color channels of images are typically encoded as integers 0-255, but the model expected floats 0-1. You'll need to convert the values. It's easiest with a Numpy array, which you can get from a PIL image like so `np_image = np.array(pil_image)`.\n",
    "\n",
    "As before, the network expects the images to be normalized in a specific way. For the means, it's `[0.485, 0.456, 0.406]` and for the standard deviations `[0.229, 0.224, 0.225]`. You'll want to subtract the means from each color channel, then divide by the standard deviation. \n",
    "\n",
    "And finally, PyTorch expects the color channel to be the first dimension but it's the third dimension in the PIL image and Numpy array. You can reorder dimensions using [`ndarray.transpose`](https://docs.scipy.org/doc/numpy-1.13.0/reference/generated/numpy.ndarray.transpose.html). The color channel needs to be first and retain the order of the other two dimensions."
   ]
  },
  {
   "cell_type": "code",
   "execution_count": null,
   "metadata": {
    "collapsed": true
   },
   "outputs": [],
   "source": [
    "def process_image(image):\n",
    "    ''' Scales, crops, and normalizes a PIL image for a PyTorch model,\n",
    "        returns an Numpy array\n",
    "    '''\n",
    "    \n",
    "    # TODO: Process a PIL image for use in a PyTorch model"
   ]
  },
  {
   "cell_type": "markdown",
   "metadata": {},
   "source": [
    "To check your work, the function below converts a PyTorch tensor and displays it in the notebook. If your `process_image` function works, running the output through this function should return the original image (except for the cropped out portions)."
   ]
  },
  {
   "cell_type": "code",
   "execution_count": null,
   "metadata": {
    "collapsed": true
   },
   "outputs": [],
   "source": [
    "def imshow(image, ax=None, title=None):\n",
    "    \"\"\"Imshow for Tensor.\"\"\"\n",
    "    if ax is None:\n",
    "        fig, ax = plt.subplots()\n",
    "    \n",
    "    # PyTorch tensors assume the color channel is the first dimension\n",
    "    # but matplotlib assumes is the third dimension\n",
    "    image = image.numpy().transpose((1, 2, 0))\n",
    "    \n",
    "    # Undo preprocessing\n",
    "    mean = np.array([0.485, 0.456, 0.406])\n",
    "    std = np.array([0.229, 0.224, 0.225])\n",
    "    image = std * image + mean\n",
    "    \n",
    "    # Image needs to be clipped between 0 and 1 or it looks like noise when displayed\n",
    "    image = np.clip(image, 0, 1)\n",
    "    \n",
    "    ax.imshow(image)\n",
    "    \n",
    "    return ax"
   ]
  },
  {
   "cell_type": "markdown",
   "metadata": {},
   "source": [
    "## Class Prediction\n",
    "\n",
    "Once you can get images in the correct format, it's time to write a function for making predictions with your model. A common practice is to predict the top 5 or so (usually called top-$K$) most probable classes. You'll want to calculate the class probabilities then find the $K$ largest values.\n",
    "\n",
    "To get the top $K$ largest values in a tensor use [`x.topk(k)`](http://pytorch.org/docs/master/torch.html#torch.topk). This method returns both the highest `k` probabilities and the indices of those probabilities corresponding to the classes. You need to convert from these indices to the actual class labels using `class_to_idx` which hopefully you added to the model or from an `ImageFolder` you used to load the data ([see here](#Save-the-checkpoint)). Make sure to invert the dictionary so you get a mapping from index to class as well.\n",
    "\n",
    "Again, this method should take a path to an image and a model checkpoint, then return the probabilities and classes.\n",
    "\n",
    "```python\n",
    "probs, classes = predict(image_path, model)\n",
    "print(probs)\n",
    "print(classes)\n",
    "> [ 0.01558163  0.01541934  0.01452626  0.01443549  0.01407339]\n",
    "> ['70', '3', '45', '62', '55']\n",
    "```"
   ]
  },
  {
   "cell_type": "code",
   "execution_count": null,
   "metadata": {
    "collapsed": true
   },
   "outputs": [],
   "source": [
    "def predict(image_path, model, topk=5):\n",
    "    ''' Predict the class (or classes) of an image using a trained deep learning model.\n",
    "    '''\n",
    "    \n",
    "    # TODO: Implement the code to predict the class from an image file"
   ]
  },
  {
   "cell_type": "markdown",
   "metadata": {},
   "source": [
    "## Sanity Checking\n",
    "\n",
    "Now that you can use a trained model for predictions, check to make sure it makes sense. Even if the testing accuracy is high, it's always good to check that there aren't obvious bugs. Use `matplotlib` to plot the probabilities for the top 5 classes as a bar graph, along with the input image. It should look like this:\n",
    "\n",
    "<img src='assets/inference_example.png' width=300px>\n",
    "\n",
    "You can convert from the class integer encoding to actual flower names with the `cat_to_name.json` file (should have been loaded earlier in the notebook). To show a PyTorch tensor as an image, use the `imshow` function defined above."
   ]
  },
  {
   "cell_type": "code",
   "execution_count": null,
   "metadata": {
    "collapsed": true
   },
   "outputs": [],
   "source": [
    "# TODO: Display an image along with the top 5 classes"
   ]
  }
 ],
 "metadata": {
  "kernelspec": {
   "display_name": "Python 3",
   "language": "python",
   "name": "python3"
  },
  "language_info": {
   "codemirror_mode": {
    "name": "ipython",
    "version": 3
   },
   "file_extension": ".py",
   "mimetype": "text/x-python",
   "name": "python",
   "nbconvert_exporter": "python",
   "pygments_lexer": "ipython3",
   "version": "3.5.4"
  }
 },
 "nbformat": 4,
 "nbformat_minor": 2
}
