{
 "cells": [
  {
   "cell_type": "markdown",
   "metadata": {},
   "source": [
    "# Developing an AI application\n",
    "\n",
    "Going forward, AI algorithms will be incorporated into more and more everyday applications. For example, you might want to include an image classifier in a smart phone app. To do this, you'd use a deep learning model trained on hundreds of thousands of images as part of the overall application architecture. A large part of software development in the future will be using these types of models as common parts of applications. \n",
    "\n",
    "In this project, you'll train an image classifier to recognize different species of flowers. You can imagine using something like this in a phone app that tells you the name of the flower your camera is looking at. In practice you'd train this classifier, then export it for use in your application. We'll be using [this dataset](http://www.robots.ox.ac.uk/~vgg/data/flowers/102/index.html) of 102 flower categories, you can see a few examples below. \n",
    "\n",
    "<img src='assets/Flowers.png' width=500px>\n",
    "\n",
    "The project is broken down into multiple steps:\n",
    "\n",
    "* Load and preprocess the image dataset\n",
    "* Train the image classifier on your dataset\n",
    "* Use the trained classifier to predict image content\n",
    "\n",
    "We'll lead you through each part which you'll implement in Python.\n",
    "\n",
    "When you've completed this project, you'll have an application that can be trained on any set of labeled images. Here your network will be learning about flowers and end up as a command line application. But, what you do with your new skills depends on your imagination and effort in building a dataset. For example, imagine an app where you take a picture of a car, it tells you what the make and model is, then looks up information about it. Go build your own dataset and make something new.\n",
    "\n",
    "First up is importing the packages you'll need. It's good practice to keep all the imports at the beginning of your code. As you work through this notebook and find you need to import a package, make sure to add the import up here."
   ]
  },
  {
   "cell_type": "code",
   "execution_count": 1,
   "metadata": {
    "collapsed": true
   },
   "outputs": [],
   "source": [
    "# Imports here\n",
    "from __future__ import print_function, division\n",
    "\n",
    "import torch\n",
    "import bcolz as bz\n",
    "import torch.nn as nn\n",
    "import torch.optim as optim\n",
    "from torch.optim import lr_scheduler\n",
    "from torch.autograd import Variable\n",
    "from PIL import Image\n",
    "import numpy as np\n",
    "import torchvision\n",
    "from torchvision import datasets, models, transforms\n",
    "from torch.autograd import Variable\n",
    "import matplotlib.pyplot as plt\n",
    "import time\n",
    "import os\n",
    "import copy\n",
    "%matplotlib inline"
   ]
  },
  {
   "cell_type": "markdown",
   "metadata": {},
   "source": [
    "## Load the data\n",
    "\n",
    "Here you'll use `torchvision` to load the data ([documentation](http://pytorch.org/docs/0.3.0/torchvision/index.html)). The data should be included alongside this notebook, otherwise you can [download it here](https://s3.amazonaws.com/content.udacity-data.com/nd089/flower_data.tar.gz). The dataset is split into three parts, training, validation, and testing. For the training, you'll want to apply transformations such as random scaling, cropping, and flipping. This will help the network generalize leading to better performance. You'll also need to make sure the input data is resized to 224x224 pixels as required by the pre-trained networks.\n",
    "\n",
    "The validation and testing sets are used to measure the model's performance on data it hasn't seen yet. For this you don't want any scaling or rotation transformations, but you'll need to resize then crop the images to the appropriate size.\n",
    "\n",
    "The pre-trained networks you'll use were trained on the ImageNet dataset where each color channel was normalized separately. For all three sets you'll need to normalize the means and standard deviations of the images to what the network expects. For the means, it's `[0.485, 0.456, 0.406]` and for the standard deviations `[0.229, 0.224, 0.225]`, calculated from the ImageNet images.  These values will shift each color channel to be centered at 0 and range from -1 to 1.\n",
    " "
   ]
  },
  {
   "cell_type": "code",
   "execution_count": 2,
   "metadata": {
    "collapsed": true
   },
   "outputs": [],
   "source": [
    "data_dir = '/flowers'\n",
    "train_dir = data_dir + '/train'\n",
    "valid_dir = data_dir + '/valid'\n",
    "test_dir = data_dir + '/test'"
   ]
  },
  {
   "cell_type": "code",
   "execution_count": 3,
   "metadata": {
    "collapsed": true
   },
   "outputs": [],
   "source": [
    "# Hyperparameters\n",
    "batch_size = 1\n",
    "num_classes = 102\n",
    "num_hidden=4096\n",
    "num_features = 512\n",
    "learning_rate = 1e-2\n",
    "num_epochs = 100\n",
    "step_size=7\n",
    "gamma=0.1\n",
    "weight_decay=1e-5"
   ]
  },
  {
   "cell_type": "code",
   "execution_count": 4,
   "metadata": {
    "collapsed": true
   },
   "outputs": [],
   "source": [
    "# TODO: Define your transforms for the training, validation, and testing sets\n",
    "#data_transforms = \n",
    "\n",
    "data_transforms = {\n",
    "    'train': transforms.Compose([\n",
    "        transforms.RandomResizedCrop(224),\n",
    "        transforms.RandomHorizontalFlip(),\n",
    "        transforms.ToTensor(),\n",
    "        transforms.Normalize([0.485, 0.456, 0.406], [0.229, 0.224, 0.225])\n",
    "    ]),\n",
    "    'val': transforms.Compose([\n",
    "        transforms.Resize(256),\n",
    "        transforms.CenterCrop(224),\n",
    "    transforms.ToTensor(),\n",
    "    transforms.Normalize([0.485, 0.456, 0.406], [0.229, 0.224, 0.225])\n",
    "    ]),\n",
    "    'test': transforms.Compose([\n",
    "    transforms.Resize(256),\n",
    "    transforms.CenterCrop(224),\n",
    "    transforms.ToTensor(),\n",
    "    transforms.Normalize(mean=[0.485, 0.456, 0.406], std=[0.229, 0.224, 0.225])\n",
    "])\n",
    "}\n",
    "# TODO: Load the datasets with ImageFolder\n",
    "#image_datasets = \n",
    "#image_datasets = {x: datasets.ImageFolder(os.path.join(\"\",x),data_transforms[x])for x in [train_dir, valid_dir]}\n",
    "image_datasets = {x: datasets.ImageFolder(os.path.join(data_dir, x),data_transforms[x]) for x in ['train', 'val','test']}\n",
    "\n",
    "# TODO: Using the image datasets and the trainforms, define the dataloaders\n",
    "dataloaders = {x: torch.utils.data.DataLoader(image_datasets[x], batch_size=batch_size, shuffle=True, num_workers=1)for x in ['train', 'val']}\n",
    "dataset_sizes = {x: len(image_datasets[x]) for x in ['train', 'val','test']}\n",
    "\n",
    "class_names = image_datasets['train'].classes\n",
    "class_to_idx = image_datasets['train'].class_to_idx\n",
    "use_gpu = torch.cuda.is_available()\n",
    "#device = torch.device(\"cuda:0\" if torch.cuda.is_available() else \"cpu\")\n",
    "#print('class_names', class_names)\n",
    "#print('class_to_idx', class_to_idx)"
   ]
  },
  {
   "cell_type": "markdown",
   "metadata": {},
   "source": [
    "### Label mapping\n",
    "\n",
    "You'll also need to load in a mapping from category label to category name. You can find this in the file `cat_to_name.json`. It's a JSON object which you can read in with the [`json` module](https://docs.python.org/2/library/json.html). This will give you a dictionary mapping the integer encoded categories to the actual names of the flowers."
   ]
  },
  {
   "cell_type": "code",
   "execution_count": 5,
   "metadata": {
    "collapsed": true
   },
   "outputs": [],
   "source": [
    "import json\n",
    "\n",
    "with open('cat_to_name.json', 'r') as f:\n",
    "    cat_to_name = json.load(f)\n"
   ]
  },
  {
   "cell_type": "markdown",
   "metadata": {},
   "source": [
    "# Building and training the classifier\n",
    "\n",
    "Now that the data is ready, it's time to build and train the classifier. As usual, you should use one of the pretrained models from `torchvision.models` to get the image features. Build and train a new feed-forward classifier using those features.\n",
    "\n",
    "We're going to leave this part up to you. If you want to talk through it with someone, chat with your fellow students! You can also ask questions on the forums or join the instructors in office hours.\n",
    "\n",
    "Refer to [the rubric](https://review.udacity.com/#!/rubrics/1663/view) for guidance on successfully completing this section. Things you'll need to do:\n",
    "\n",
    "* Load a [pre-trained network](http://pytorch.org/docs/master/torchvision/models.html) (If you need a starting point, the VGG networks work great and are straightforward to use)\n",
    "* Define a new, untrained feed-forward network as a classifier, using ReLU activations and dropout\n",
    "* Train the classifier layers using backpropagation using the pre-trained network to get the features\n",
    "* Track the loss and accuracy on the validation set to determine the best hyperparameters\n",
    "\n",
    "We've left a cell open for you below, but use as many as you need. Our advice is to break the problem up into smaller parts you can run separately. Check that each part is doing what you expect, then move on to the next. You'll likely find that as you work through each part, you'll need to go back and modify your previous code. This is totally normal!\n",
    "\n",
    "When training make sure you're updating only the weights of the feed-forward network. You should be able to get the validation accuracy above 70% if you build everything right. Make sure to try different hyperparameters (learning rate, units in the classifier, epochs, etc) to find the best model. Save those hyperparameters to use as default values in the next part of the project."
   ]
  },
  {
   "cell_type": "code",
   "execution_count": 6,
   "metadata": {},
   "outputs": [
    {
     "name": "stderr",
     "output_type": "stream",
     "text": [
      "Downloading: \"https://download.pytorch.org/models/alexnet-owt-4df8aa71.pth\" to /root/.torch/models/alexnet-owt-4df8aa71.pth\n",
      "100%|██████████| 244418560/244418560 [00:03<00:00, 70469900.77it/s]\n",
      "Downloading: \"https://download.pytorch.org/models/vgg16-397923af.pth\" to /root/.torch/models/vgg16-397923af.pth\n",
      "100%|██████████| 553433881/553433881 [00:09<00:00, 58387882.49it/s]\n"
     ]
    }
   ],
   "source": [
    "#resnet18 = torchvision.models.resnet18(pretrained=True)\n",
    "alexnet = torchvision.models.alexnet(pretrained=True)\n",
    "vgg16 = torchvision.models.vgg16(pretrained=True)\n",
    "\n",
    "models = {'alexnet': alexnet, 'vgg': vgg16}\n",
    "model=alexnet"
   ]
  },
  {
   "cell_type": "code",
   "execution_count": 7,
   "metadata": {
    "collapsed": true
   },
   "outputs": [],
   "source": [
    "class FineTuneModel(nn.Module):\n",
    "    def __init__(self, original_model, arch, num_classes,num_features):\n",
    "        super(FineTuneModel, self).__init__()\n",
    "\n",
    "        if arch.startswith('alexnet') :\n",
    "            self.features = original_model.features\n",
    "            self.classifier = nn.Sequential(\n",
    "                nn.Dropout(),\n",
    "                nn.Linear(256 * 6 * 6, num_hidden),\n",
    "                nn.ReLU(inplace=True),\n",
    "                nn.Dropout(),\n",
    "                nn.Linear(num_hidden, num_hidden),\n",
    "                nn.ReLU(inplace=True),\n",
    "                nn.Linear(num_hidden, num_classes),\n",
    "            )\n",
    "            self.modelName = 'alexnet'\n",
    "        elif arch.startswith('resnet') :\n",
    "            # Everything except the last linear layer\n",
    "            self.features = nn.Sequential(*list(original_model.children())[:-1])\n",
    "            self.classifier = nn.Sequential(\n",
    "                nn.Linear(num_features, num_classes)\n",
    "            )\n",
    "            self.modelName = 'resnet'\n",
    "        elif arch.startswith('vgg16'):\n",
    "            self.features = original_model.features\n",
    "            self.classifier = nn.Sequential(\n",
    "                nn.Dropout(),\n",
    "                nn.Linear(25088, 4096),\n",
    "                nn.ReLU(inplace=True),\n",
    "                nn.Dropout(),\n",
    "                nn.Linear(4096, num_features),\n",
    "                nn.ReLU(inplace=True),\n",
    "                nn.Linear(num_features, num_classes),\n",
    "            )\n",
    "            self.modelName = 'vgg16'\n",
    "        else :\n",
    "            raise(\"Finetuning not supported on this architecture yet\")\n",
    "\n",
    "        # Freeze those weights\n",
    "        for p in self.features.parameters():\n",
    "            p.requires_grad = False\n",
    "\n",
    "\n",
    "    def forward(self, x):\n",
    "        f = self.features(x)\n",
    "        if self.modelName == 'alexnet' :\n",
    "            f = f.view(f.size(0), 256 * 6 * 6)\n",
    "        elif self.modelName == 'vgg16':\n",
    "            f = f.view(f.size(0), -1)\n",
    "        elif self.modelName == 'resnet' :\n",
    "            f = f.view(f.size(0), -1)\n",
    "        y = self.classifier(f)\n",
    "        return y"
   ]
  },
  {
   "cell_type": "code",
   "execution_count": 8,
   "metadata": {
    "collapsed": true
   },
   "outputs": [],
   "source": [
    "#model_alex = models.alexnet(pretrained=True)\n",
    "#print(model)\n",
    "num_ftrs = model.classifier[6].in_features\n",
    "features = list(model.classifier.children())[:-1]\n",
    "features.extend([nn.Linear(num_ftrs, num_classes)])\n",
    "model.classifier = nn.Sequential(*features)\n",
    "model = FineTuneModel(model, \"alexnet\", num_classes,num_hidden)\n",
    "#print(model)\n",
    "for param in model.parameters():\n",
    "    param.requires_grad = False\n",
    "model.classifier[6].out_features = num_classes\n",
    "for param in model.classifier[6].parameters():\n",
    "    param.requires_grad = True\n",
    "if use_gpu:\n",
    "    model = model.cuda(0)\n",
    "\n",
    "def preconvfeat(dataset):\n",
    "    conv_features = []\n",
    "    labels_list = []\n",
    "    for data in dataset:\n",
    "        inputs,labels = data\n",
    "        inputs , labels = Variable(inputs.cuda(0)),Variable(labels.cuda(0))\n",
    "        x = model.features(inputs)\n",
    "        conv_features.extend(x.data.cpu().numpy())\n",
    "        labels_list.extend(labels.data.cpu().numpy())\n",
    "    conv_features = np.concatenate([[feat] for feat in conv_features])\n",
    "    return (conv_features,labels_list)"
   ]
  },
  {
   "cell_type": "code",
   "execution_count": 9,
   "metadata": {},
   "outputs": [
    {
     "name": "stdout",
     "output_type": "stream",
     "text": [
      "CPU times: user 18 s, sys: 7.78 s, total: 25.8 s\n",
      "Wall time: 2min 42s\n"
     ]
    }
   ],
   "source": [
    "%%time\n",
    "conv_feat_train,labels_train = preconvfeat(dataloaders['train'])"
   ]
  },
  {
   "cell_type": "code",
   "execution_count": 10,
   "metadata": {},
   "outputs": [
    {
     "name": "stdout",
     "output_type": "stream",
     "text": [
      "CPU times: user 2.09 s, sys: 980 ms, total: 3.07 s\n",
      "Wall time: 12.9 s\n"
     ]
    }
   ],
   "source": [
    "%%time\n",
    "conv_feat_val,labels_val = preconvfeat(dataloaders['val'])"
   ]
  },
  {
   "cell_type": "code",
   "execution_count": 11,
   "metadata": {
    "collapsed": true
   },
   "outputs": [],
   "source": [
    "def save_array(filename, arr):\n",
    "    c=bz.carray(arr, rootdir=filename, mode='w')\n",
    "    c.flush()\n",
    "def load_array(filename):\n",
    "    return bz.open(filename)[:]"
   ]
  },
  {
   "cell_type": "code",
   "execution_count": 12,
   "metadata": {
    "collapsed": true
   },
   "outputs": [],
   "source": [
    "save_array('/conv_feat_trainalex.bc', conv_feat_train)\n",
    "save_array('/labels_trainalex.bc', labels_train)\n",
    "save_array('/conv_feat_valalex.bc', conv_feat_val)\n",
    "save_array('/labels_valalex.bc', labels_val)"
   ]
  },
  {
   "cell_type": "code",
   "execution_count": 13,
   "metadata": {
    "collapsed": true
   },
   "outputs": [],
   "source": [
    "conv_feat_train = load_array('/conv_feat_trainalex.bc')\n",
    "labels_train = load_array('/labels_trainalex.bc')\n",
    "conv_feat_val = load_array('/conv_feat_valalex.bc')\n",
    "labels_val = load_array('/labels_valalex.bc')"
   ]
  },
  {
   "cell_type": "code",
   "execution_count": 20,
   "metadata": {
    "collapsed": true
   },
   "outputs": [],
   "source": [
    "for param in model.classifier.parameters():\n",
    "    param.requires_grad = True\n",
    "if use_gpu:\n",
    "    model = model.cuda(0)\n",
    "criterion = nn.CrossEntropyLoss()\n",
    "lr = 0.01\n",
    "optimizer = torch.optim.SGD(model.classifier.parameters(),lr = lr)"
   ]
  },
  {
   "cell_type": "code",
   "execution_count": 21,
   "metadata": {
    "collapsed": true
   },
   "outputs": [],
   "source": [
    "def data_gen(conv_feat,labels,batch_size=64,shuffle=True):\n",
    "    labels = np.array(labels)\n",
    "    if shuffle:\n",
    "        index = np.random.permutation(len(conv_feat))\n",
    "        conv_feat = conv_feat[index]\n",
    "        labels = labels[index]\n",
    "    for idx in range(0,len(conv_feat),batch_size):\n",
    "        yield(conv_feat[idx:idx+batch_size],labels[idx:idx+batch_size])"
   ]
  },
  {
   "cell_type": "code",
   "execution_count": 22,
   "metadata": {
    "collapsed": true
   },
   "outputs": [],
   "source": [
    "def save_checkpoint(state, is_best, filename='/output/checkpoint.pth.tar'):\n",
    "    \"\"\"Save checkpoint if a new best is achieved\"\"\"\n",
    "    if is_best:\n",
    "        print (\"=> Saving a new best\")\n",
    "        torch.save(state, filename)  # save checkpoint\n",
    "    else:\n",
    "        print (\"=> Validation Accuracy did not improve\")"
   ]
  },
  {
   "cell_type": "code",
   "execution_count": 28,
   "metadata": {
    "collapsed": true
   },
   "outputs": [],
   "source": [
    "def train(model,size,train_b=None,train_labels=None,val_b=None,val_lables=None,epochs=1,optimizer=None,criterion=None,train=True,shuffle=True):\n",
    "    for epoch in range(epochs):\n",
    "        print('Epoch {}/{}'.format(epoch, epochs -1))\n",
    "        for phase in ['train', 'val']:\n",
    "            total = 0\n",
    "            running_loss = 0.0\n",
    "            running_corrects = 0\n",
    "            if phase == 'train':\n",
    "                model.train()\n",
    "                batches = data_gen(conv_feat=train_b,labels=train_labels,shuffle=shuffle)\n",
    "            \n",
    "                for inputs,classes in batches:\n",
    "                    if use_gpu:\n",
    "                        inputs , classes = Variable(torch.from_numpy(inputs).cuda(0)),Variable(torch.from_numpy(classes).cuda(0))\n",
    "                    else:\n",
    "                        inputs, labels = Variable(torch.from_numpy(inputs)), Variable(torch.from_numpy(labels))\n",
    "                \n",
    "                    inputs = inputs.view(inputs.size(0), -1)\n",
    "                    outputs = model(inputs)\n",
    "                    loss = criterion(outputs,classes)           \n",
    "                    if train:\n",
    "                        if optimizer is None:\n",
    "                            raise ValueError('Pass optimizer for train mode')\n",
    "                    optimizer = optimizer\n",
    "                    optimizer.zero_grad()\n",
    "                    loss.backward()\n",
    "                    optimizer.step()\n",
    "                    _,preds = torch.max(outputs.data,1)\n",
    "                    # statistics\n",
    "                    running_loss += loss.data[0]\n",
    "                    running_corrects += torch.sum(preds == classes.data)\n",
    "            else:\n",
    "                model.eval()\n",
    "                batches = data_gen(conv_feat=val_b,labels=val_lables,shuffle=shuffle)\n",
    "                for inputs,classes in batches:\n",
    "                    if use_gpu:\n",
    "                        inputs , classes = Variable(torch.from_numpy(inputs).cuda(0)),Variable(torch.from_numpy(classes).cuda(0))\n",
    "                    else:\n",
    "                        inputs, labels = Variable(torch.from_numpy(inputs)), Variable(torch.from_numpy(labels))\n",
    "                \n",
    "                    inputs = inputs.view(inputs.size(0), -1)\n",
    "                    outputs = model(inputs)\n",
    "                    loss = criterion(outputs,classes)           \n",
    "                    \n",
    "                    _,preds = torch.max(outputs.data,1)\n",
    "                    # statistics\n",
    "                    running_loss += loss.data[0]\n",
    "                    running_corrects += torch.sum(preds == classes.data)\n",
    "                \n",
    "            epoch_loss = running_loss / dataset_sizes[phase]\n",
    "            epoch_acc = running_corrects / dataset_sizes[phase]\n",
    "            print('{} Loss: {:.4f} Acc: {:.4f}'.format(phase, epoch_loss, epoch_acc))\n",
    "            \n",
    "            if phase == 'valid' and epoch_accuracy > best_accuracy:\n",
    "                best_accuracy = epoch_accuracy\n",
    "                save_checkpoint({\n",
    "                    'epoch': start_epoch + epoch + 1,\n",
    "                    'state_dict': model.state_dict(),\n",
    "                    'best_accuracy': best_accuracy,\n",
    "                    'optimizer': self.optimizer.state_dict()\n",
    "    }, is_best)\n",
    "    print()"
   ]
  },
  {
   "cell_type": "code",
   "execution_count": 29,
   "metadata": {},
   "outputs": [
    {
     "name": "stdout",
     "output_type": "stream",
     "text": [
      "train Loss: 0.0385 Acc: 0.4080\n",
      "val Loss: 0.0283 Acc: 0.4866\n",
      "train Loss: 0.0296 Acc: 0.5263\n",
      "val Loss: 0.0276 Acc: 0.5147\n",
      "train Loss: 0.0241 Acc: 0.6096\n",
      "val Loss: 0.0176 Acc: 0.6797\n",
      "train Loss: 0.0198 Acc: 0.6735\n",
      "val Loss: 0.0189 Acc: 0.6907\n",
      "train Loss: 0.0171 Acc: 0.7140\n",
      "val Loss: 0.0175 Acc: 0.6919\n",
      "train Loss: 0.0146 Acc: 0.7558\n",
      "val Loss: 0.0124 Acc: 0.7775\n",
      "train Loss: 0.0130 Acc: 0.7755\n",
      "val Loss: 0.0135 Acc: 0.7457\n",
      "train Loss: 0.0114 Acc: 0.8117\n",
      "val Loss: 0.0131 Acc: 0.7763\n",
      "train Loss: 0.0100 Acc: 0.8378\n",
      "val Loss: 0.0118 Acc: 0.8142\n",
      "train Loss: 0.0089 Acc: 0.8501\n",
      "val Loss: 0.0102 Acc: 0.8276\n",
      "train Loss: 0.0078 Acc: 0.8669\n",
      "val Loss: 0.0101 Acc: 0.8276\n",
      "train Loss: 0.0071 Acc: 0.8802\n",
      "val Loss: 0.0094 Acc: 0.8325\n",
      "train Loss: 0.0062 Acc: 0.8951\n",
      "val Loss: 0.0115 Acc: 0.8154\n",
      "train Loss: 0.0057 Acc: 0.9080\n",
      "val Loss: 0.0096 Acc: 0.8325\n",
      "train Loss: 0.0051 Acc: 0.9141\n",
      "val Loss: 0.0096 Acc: 0.8252\n",
      "train Loss: 0.0046 Acc: 0.9261\n",
      "val Loss: 0.0119 Acc: 0.8093\n",
      "train Loss: 0.0043 Acc: 0.9312\n",
      "val Loss: 0.0104 Acc: 0.8227\n",
      "train Loss: 0.0037 Acc: 0.9411\n",
      "val Loss: 0.0100 Acc: 0.8313\n",
      "train Loss: 0.0033 Acc: 0.9484\n",
      "val Loss: 0.0090 Acc: 0.8447\n",
      "train Loss: 0.0032 Acc: 0.9547\n",
      "val Loss: 0.0097 Acc: 0.8411\n",
      "train Loss: 0.0030 Acc: 0.9516\n",
      "val Loss: 0.0106 Acc: 0.8337\n",
      "train Loss: 0.0027 Acc: 0.9597\n",
      "val Loss: 0.0100 Acc: 0.8313\n",
      "train Loss: 0.0026 Acc: 0.9600\n",
      "val Loss: 0.0092 Acc: 0.8570\n",
      "train Loss: 0.0022 Acc: 0.9684\n",
      "val Loss: 0.0089 Acc: 0.8557\n",
      "train Loss: 0.0020 Acc: 0.9712\n",
      "val Loss: 0.0089 Acc: 0.8472\n",
      "train Loss: 0.0020 Acc: 0.9718\n",
      "val Loss: 0.0093 Acc: 0.8509\n",
      "train Loss: 0.0019 Acc: 0.9754\n",
      "val Loss: 0.0090 Acc: 0.8496\n",
      "train Loss: 0.0017 Acc: 0.9779\n",
      "val Loss: 0.0098 Acc: 0.8496\n",
      "train Loss: 0.0017 Acc: 0.9795\n",
      "val Loss: 0.0111 Acc: 0.8313\n",
      "train Loss: 0.0017 Acc: 0.9742\n",
      "val Loss: 0.0092 Acc: 0.8484\n",
      "\n",
      "CPU times: user 35.1 s, sys: 37.2 s, total: 1min 12s\n",
      "Wall time: 1min 12s\n"
     ]
    }
   ],
   "source": [
    "\n",
    "\n",
    "%%time\n",
    "(train(model=model.classifier,size=dataset_sizes,train_b=conv_feat_train,train_labels=labels_train,val_b=conv_feat_val,val_lables=labels_val,\n",
    "            epochs=30,optimizer=optimizer,criterion=criterion,train=True,shuffle=True))"
   ]
  },
  {
   "cell_type": "code",
   "execution_count": 30,
   "metadata": {
    "collapsed": true
   },
   "outputs": [],
   "source": [
    "def train1(model,size,conv_feat=None,labels=None,epochs=1,optimizer=None,train=True,shuffle=True):\n",
    "    for epoch in range(epochs):\n",
    "        batches = data_gen(conv_feat=conv_feat,labels=labels,shuffle=shuffle)\n",
    "        total = 0\n",
    "        running_loss = 0.0\n",
    "        running_corrects = 0\n",
    "        for inputs,classes in batches:\n",
    "            inputs , classes = Variable(torch.from_numpy(inputs).cuda(0)),Variable(torch.from_numpy(classes).cuda(0))\n",
    "            inputs = inputs.view(inputs.size(0), -1)\n",
    "            outputs = model(inputs)\n",
    "            loss = criterion(outputs,classes)           \n",
    "            if train:\n",
    "                if optimizer is None:\n",
    "                    raise ValueError('Pass optimizer for train mode')\n",
    "                optimizer = optimizer\n",
    "                optimizer.zero_grad()\n",
    "                loss.backward()\n",
    "                optimizer.step()\n",
    "            _,preds = torch.max(outputs.data,1)\n",
    "            # statistics\n",
    "            running_loss += loss.data[0]\n",
    "            running_corrects += torch.sum(preds == classes.data)\n",
    "        epoch_loss = running_loss / size\n",
    "        epoch_acc = running_corrects / size\n",
    "        print('Loss: {:.4f} Acc: {:.4f}'.format(\n",
    "                     epoch_loss, epoch_acc))"
   ]
  },
  {
   "cell_type": "code",
   "execution_count": 32,
   "metadata": {},
   "outputs": [
    {
     "name": "stdout",
     "output_type": "stream",
     "text": [
      "Loss: 0.0002 Acc: 0.9994\n",
      "Loss: 0.0001 Acc: 0.9994\n",
      "Loss: 0.0001 Acc: 0.9995\n",
      "Loss: 0.0001 Acc: 0.9997\n",
      "Loss: 0.0001 Acc: 0.9998\n",
      "CPU times: user 5.65 s, sys: 5.9 s, total: 11.5 s\n",
      "Wall time: 11.5 s\n"
     ]
    }
   ],
   "source": [
    "\n",
    "%%time\n",
    "(train1(model=model.classifier,size=dataset_sizes['train'],conv_feat=conv_feat_train,labels=labels_train,\n",
    "            epochs=5,optimizer=optimizer,train=True,shuffle=True))"
   ]
  },
  {
   "cell_type": "code",
   "execution_count": 33,
   "metadata": {},
   "outputs": [
    {
     "name": "stdout",
     "output_type": "stream",
     "text": [
      "Loss: 0.0084 Acc: 0.8643\n"
     ]
    }
   ],
   "source": [
    "train1(conv_feat=conv_feat_val,labels=labels_val,model=model.classifier\n",
    "            ,size=dataset_sizes['val'],train=False,shuffle=True)"
   ]
  },
  {
   "cell_type": "code",
   "execution_count": null,
   "metadata": {
    "collapsed": true
   },
   "outputs": [],
   "source": []
  },
  {
   "cell_type": "code",
   "execution_count": 73,
   "metadata": {
    "collapsed": true
   },
   "outputs": [],
   "source": [
    "for param in model_vgg.classifier.parameters():\n",
    "    param.requires_grad = True\n",
    "if use_gpu:\n",
    "    model_vgg = model_vgg.cuda(0)"
   ]
  },
  {
   "cell_type": "code",
   "execution_count": 74,
   "metadata": {
    "collapsed": true
   },
   "outputs": [],
   "source": [
    "criterion = nn.CrossEntropyLoss()\n",
    "lr = 0.01\n",
    "optimizer = torch.optim.SGD(model_vgg.classifier.parameters(),lr = lr)"
   ]
  },
  {
   "cell_type": "code",
   "execution_count": 75,
   "metadata": {},
   "outputs": [
    {
     "name": "stdout",
     "output_type": "stream",
     "text": [
      "Loss: 0.0016 Acc: 0.9823\n",
      "Loss: 0.0014 Acc: 0.9869\n",
      "Loss: 0.0013 Acc: 0.9896\n",
      "Loss: 0.0010 Acc: 0.9928\n",
      "Loss: 0.0009 Acc: 0.9934\n"
     ]
    }
   ],
   "source": [
    "train(conv_feat=conv_feat_train,labels=labels_train,model=model_vgg.classifier\n",
    "            ,size=dataset_sizes['train'],epochs=5,optimizer=optimizer,train=True,shuffle=True)"
   ]
  },
  {
   "cell_type": "code",
   "execution_count": 34,
   "metadata": {
    "collapsed": true
   },
   "outputs": [],
   "source": [
    "model.classifier[5].p = 0.3\n",
    "model.classifier[2].p = 0.3\n",
    "if use_gpu:\n",
    "    model= model.cuda(0)"
   ]
  },
  {
   "cell_type": "code",
   "execution_count": 35,
   "metadata": {},
   "outputs": [
    {
     "name": "stdout",
     "output_type": "stream",
     "text": [
      "train Loss: 0.0014 Acc: 0.9821\n",
      "val Loss: 0.0094 Acc: 0.8570\n",
      "train Loss: 0.0014 Acc: 0.9815\n",
      "val Loss: 0.0099 Acc: 0.8472\n",
      "train Loss: 0.0013 Acc: 0.9829\n",
      "val Loss: 0.0096 Acc: 0.8484\n",
      "train Loss: 0.0012 Acc: 0.9844\n",
      "val Loss: 0.0098 Acc: 0.8521\n",
      "train Loss: 0.0013 Acc: 0.9791\n",
      "val Loss: 0.0104 Acc: 0.8472\n",
      "train Loss: 0.0011 Acc: 0.9837\n",
      "val Loss: 0.0094 Acc: 0.8460\n",
      "train Loss: 0.0010 Acc: 0.9884\n",
      "val Loss: 0.0095 Acc: 0.8521\n",
      "train Loss: 0.0010 Acc: 0.9879\n",
      "val Loss: 0.0095 Acc: 0.8435\n",
      "train Loss: 0.0010 Acc: 0.9876\n",
      "val Loss: 0.0127 Acc: 0.8264\n",
      "train Loss: 0.0010 Acc: 0.9881\n",
      "val Loss: 0.0100 Acc: 0.8533\n",
      "train Loss: 0.0009 Acc: 0.9884\n",
      "val Loss: 0.0098 Acc: 0.8509\n",
      "train Loss: 0.0009 Acc: 0.9908\n",
      "val Loss: 0.0097 Acc: 0.8435\n",
      "train Loss: 0.0009 Acc: 0.9886\n",
      "val Loss: 0.0103 Acc: 0.8447\n",
      "train Loss: 0.0008 Acc: 0.9915\n",
      "val Loss: 0.0097 Acc: 0.8484\n",
      "train Loss: 0.0008 Acc: 0.9889\n",
      "val Loss: 0.0106 Acc: 0.8521\n",
      "train Loss: 0.0008 Acc: 0.9898\n",
      "val Loss: 0.0093 Acc: 0.8570\n",
      "train Loss: 0.0008 Acc: 0.9896\n",
      "val Loss: 0.0096 Acc: 0.8594\n",
      "train Loss: 0.0008 Acc: 0.9890\n",
      "val Loss: 0.0099 Acc: 0.8594\n",
      "train Loss: 0.0007 Acc: 0.9922\n",
      "val Loss: 0.0093 Acc: 0.8606\n",
      "train Loss: 0.0006 Acc: 0.9925\n",
      "val Loss: 0.0095 Acc: 0.8557\n",
      "train Loss: 0.0007 Acc: 0.9910\n",
      "val Loss: 0.0099 Acc: 0.8582\n",
      "train Loss: 0.0006 Acc: 0.9928\n",
      "val Loss: 0.0095 Acc: 0.8619\n",
      "train Loss: 0.0006 Acc: 0.9927\n",
      "val Loss: 0.0096 Acc: 0.8545\n",
      "train Loss: 0.0007 Acc: 0.9916\n",
      "val Loss: 0.0096 Acc: 0.8557\n",
      "train Loss: 0.0005 Acc: 0.9951\n",
      "val Loss: 0.0101 Acc: 0.8545\n",
      "train Loss: 0.0005 Acc: 0.9942\n",
      "val Loss: 0.0093 Acc: 0.8582\n",
      "train Loss: 0.0005 Acc: 0.9954\n",
      "val Loss: 0.0099 Acc: 0.8460\n",
      "train Loss: 0.0005 Acc: 0.9937\n",
      "val Loss: 0.0096 Acc: 0.8496\n",
      "train Loss: 0.0005 Acc: 0.9936\n",
      "val Loss: 0.0095 Acc: 0.8496\n",
      "train Loss: 0.0006 Acc: 0.9925\n",
      "val Loss: 0.0102 Acc: 0.8594\n",
      "\n",
      "CPU times: user 35.6 s, sys: 37.2 s, total: 1min 12s\n",
      "Wall time: 1min 12s\n"
     ]
    }
   ],
   "source": [
    "%%time\n",
    "(train(model=model.classifier,size=dataset_sizes,train_b=conv_feat_train,train_labels=labels_train,val_b=conv_feat_val,val_lables=labels_val,\n",
    "            epochs=10,optimizer=optimizer,criterion=criterion,train=True,shuffle=True))\n",
    "\n"
   ]
  },
  {
   "cell_type": "code",
   "execution_count": 36,
   "metadata": {},
   "outputs": [
    {
     "name": "stdout",
     "output_type": "stream",
     "text": [
      "Loss: 0.0000 Acc: 1.0000\n",
      "Loss: 0.0000 Acc: 1.0000\n",
      "Loss: 0.0000 Acc: 1.0000\n",
      "Loss: 0.0000 Acc: 1.0000\n",
      "Loss: 0.0000 Acc: 1.0000\n"
     ]
    }
   ],
   "source": [
    "train1(conv_feat=conv_feat_train,labels=labels_train,model=model.classifier\n",
    "            ,size=dataset_sizes['train'],epochs=5,optimizer=optimizer,train=True,shuffle=True)"
   ]
  },
  {
   "cell_type": "code",
   "execution_count": 37,
   "metadata": {},
   "outputs": [
    {
     "name": "stdout",
     "output_type": "stream",
     "text": [
      "Loss: 0.0090 Acc: 0.8692\n"
     ]
    }
   ],
   "source": [
    "train1(conv_feat=conv_feat_val,labels=labels_val,model=model.classifier\n",
    "            ,size=dataset_sizes['val'],train=False,shuffle=True)"
   ]
  },
  {
   "cell_type": "markdown",
   "metadata": {},
   "source": [
    "## Testing your network\n",
    "\n",
    "It's good practice to test your trained network on test data, images the network has never seen either in training or validation. This will give you a good estimate for the model's performance on completely new images. Run the test images through the network and measure the accuracy, the same way you did validation. You should be able to reach around 70% accuracy on the test set if the model has been trained well."
   ]
  },
  {
   "cell_type": "code",
   "execution_count": 38,
   "metadata": {},
   "outputs": [
    {
     "name": "stdout",
     "output_type": "stream",
     "text": [
      "Loss: 0.0091 Acc: 0.8681\n"
     ]
    }
   ],
   "source": [
    "# TODO: Do validation on the test set\n",
    "train1(conv_feat=conv_feat_val,labels=labels_val,model=model.classifier\n",
    "            ,size=dataset_sizes['test'],train=False,shuffle=True)"
   ]
  },
  {
   "cell_type": "markdown",
   "metadata": {},
   "source": [
    "## Save the checkpoint\n",
    "\n",
    "Now that your network is trained, save the model so you can load it later for making predictions. You probably want to save other things such as the mapping of classes to indices which you get from one of the image datasets: `image_datasets['train'].class_to_idx`. You can attach this to the model as an attribute which makes inference easier later on.\n",
    "\n",
    "```model.class_to_idx = image_datasets['train'].class_to_idx```\n",
    "\n",
    "Remember that you'll want to completely rebuild the model later so you can use it for inference. Make sure to include any information you need in the checkpoint. If you want to load the model and keep training, you'll want to save the number of epochs as well as the optimizer state, `optimizer.state_dict`. You'll likely want to use this trained model in the next part of the project, so best to save it now."
   ]
  },
  {
   "cell_type": "code",
   "execution_count": 39,
   "metadata": {},
   "outputs": [
    {
     "name": "stderr",
     "output_type": "stream",
     "text": [
      "/usr/local/lib/python3.6/site-packages/torch/serialization.py:159: UserWarning: Couldn't retrieve source code for container of type FineTuneModel. It won't be checked for correctness upon loading.\n",
      "  \"type \" + obj.__name__ + \". It won't be checked \"\n"
     ]
    }
   ],
   "source": [
    "# TODO: Save the checkpoint \n",
    "# Saving The Model:\n",
    "if use_gpu:\n",
    "    model = model.cuda(0)\n",
    "model_weights_path = '/checkpoint.pth.tar'\n",
    "model.class_to_idx = class_to_idx\n",
    "torch.save(model, model_weights_path)"
   ]
  },
  {
   "cell_type": "markdown",
   "metadata": {},
   "source": [
    "## Loading the checkpoint\n",
    "\n",
    "At this point it's good to write a function that can load a checkpoint and rebuild the model. That way you can come back to this project and keep working on it without having to retrain the network."
   ]
  },
  {
   "cell_type": "code",
   "execution_count": 40,
   "metadata": {
    "collapsed": true
   },
   "outputs": [],
   "source": [
    "# TODO: Write a function that loads a checkpoint and rebuilds the model\n",
    "model = torch.load(model_weights_path)"
   ]
  },
  {
   "cell_type": "code",
   "execution_count": 41,
   "metadata": {
    "collapsed": true
   },
   "outputs": [],
   "source": [
    "class_to_idx=model.class_to_idx\n",
    "import json\n",
    "with open('cat_to_name.json', 'r') as f:\n",
    "    cat_to_name = json.load(f)\n",
    "\n",
    "for k,v in cat_to_name.items():\n",
    "    #print(k)\n",
    "    i=int(k)-1\n",
    "    class_to_idx[i] = class_to_idx[k]\n",
    "    del class_to_idx[k]\n",
    "    class_to_idx[i]=v\n",
    "\n",
    "    \n"
   ]
  },
  {
   "cell_type": "markdown",
   "metadata": {},
   "source": [
    "# Inference for classification\n",
    "\n",
    "Now you'll write a function to use a trained network for inference. That is, you'll pass an image into the network and predict the class of the flower in the image. Write a function called `predict` that takes an image and a model, then returns the top $K$ most likely classes along with the probabilities. It should look like \n",
    "\n",
    "```python\n",
    "probs, classes = predict(image_path, model)\n",
    "print(probs)\n",
    "print(classes)\n",
    "> [ 0.01558163  0.01541934  0.01452626  0.01443549  0.01407339]\n",
    "> ['70', '3', '45', '62', '55']\n",
    "```\n",
    "\n",
    "First you'll need to handle processing the input image such that it can be used in your network. \n",
    "\n",
    "## Image Preprocessing\n",
    "\n",
    "You'll want to use `PIL` to load the image ([documentation](https://pillow.readthedocs.io/en/latest/reference/Image.html)). It's best to write a function that preprocesses the image so it can be used as input for the model. This function should process the images in the same manner used for training. \n",
    "\n",
    "First, resize the images where the shortest side is 256 pixels, keeping the aspect ratio. This can be done with the [`thumbnail`](http://pillow.readthedocs.io/en/3.1.x/reference/Image.html#PIL.Image.Image.thumbnail) or [`resize`](http://pillow.readthedocs.io/en/3.1.x/reference/Image.html#PIL.Image.Image.thumbnail) methods. Then you'll need to crop out the center 224x224 portion of the image.\n",
    "\n",
    "Color channels of images are typically encoded as integers 0-255, but the model expected floats 0-1. You'll need to convert the values. It's easiest with a Numpy array, which you can get from a PIL image like so `np_image = np.array(pil_image)`.\n",
    "\n",
    "As before, the network expects the images to be normalized in a specific way. For the means, it's `[0.485, 0.456, 0.406]` and for the standard deviations `[0.229, 0.224, 0.225]`. You'll want to subtract the means from each color channel, then divide by the standard deviation. \n",
    "\n",
    "And finally, PyTorch expects the color channel to be the first dimension but it's the third dimension in the PIL image and Numpy array. You can reorder dimensions using [`ndarray.transpose`](https://docs.scipy.org/doc/numpy-1.13.0/reference/generated/numpy.ndarray.transpose.html). The color channel needs to be first and retain the order of the other two dimensions."
   ]
  },
  {
   "cell_type": "code",
   "execution_count": 42,
   "metadata": {
    "collapsed": true
   },
   "outputs": [],
   "source": [
    "def process_image(image):\n",
    "    ''' Scales, crops, and normalizes a PIL image for a PyTorch model,\n",
    "        returns an Numpy array\n",
    "    '''\n",
    "    preprocess = transforms.Compose([\n",
    "    transforms.Resize(256),\n",
    "    transforms.CenterCrop(224),\n",
    "    transforms.ToTensor(),\n",
    "    transforms.Normalize(mean=[0.485, 0.456, 0.406], std=[0.229, 0.224, 0.225])\n",
    "])\n",
    "    img_tensor = preprocess(Image.open(image))\n",
    "    \n",
    "    return img_tensor\n",
    "    \n",
    "    # TODO: Process a PIL image for use in a PyTorch model"
   ]
  },
  {
   "cell_type": "markdown",
   "metadata": {},
   "source": [
    "To check your work, the function below converts a PyTorch tensor and displays it in the notebook. If your `process_image` function works, running the output through this function should return the original image (except for the cropped out portions)."
   ]
  },
  {
   "cell_type": "code",
   "execution_count": 43,
   "metadata": {
    "collapsed": true
   },
   "outputs": [],
   "source": [
    "def imshow(image, ax=None, title=None):\n",
    "    \"\"\"Imshow for Tensor.\"\"\"\n",
    "    if ax is None:\n",
    "        fig, ax = plt.subplots()\n",
    "    \n",
    "    # PyTorch tensors assume the color channel is the first dimension\n",
    "    # but matplotlib assumes is the third dimension\n",
    "    image = image.numpy().transpose((1, 2, 0))\n",
    "    \n",
    "    # Undo preprocessing\n",
    "    mean = np.array([0.485, 0.456, 0.406])\n",
    "    std = np.array([0.229, 0.224, 0.225])\n",
    "    image = std * image + mean\n",
    "    \n",
    "    # Image needs to be clipped between 0 and 1 or it looks like noise when displayed\n",
    "    image = np.clip(image, 0, 1)\n",
    "    if title is not None:\n",
    "        plt.title(title)\n",
    "    ax.imshow(image)\n",
    "    \n",
    "    return ax"
   ]
  },
  {
   "cell_type": "markdown",
   "metadata": {},
   "source": [
    "## Class Prediction\n",
    "\n",
    "Once you can get images in the correct format, it's time to write a function for making predictions with your model. A common practice is to predict the top 5 or so (usually called top-$K$) most probable classes. You'll want to calculate the class probabilities then find the $K$ largest values.\n",
    "\n",
    "To get the top $K$ largest values in a tensor use [`x.topk(k)`](http://pytorch.org/docs/master/torch.html#torch.topk). This method returns both the highest `k` probabilities and the indices of those probabilities corresponding to the classes. You need to convert from these indices to the actual class labels using `class_to_idx` which hopefully you added to the model or from an `ImageFolder` you used to load the data ([see here](#Save-the-checkpoint)). Make sure to invert the dictionary so you get a mapping from index to class as well.\n",
    "\n",
    "Again, this method should take a path to an image and a model checkpoint, then return the probabilities and classes.\n",
    "\n",
    "```python\n",
    "probs, classes = predict(image_path, model)\n",
    "print(probs)\n",
    "print(classes)\n",
    "> [ 0.01558163  0.01541934  0.01452626  0.01443549  0.01407339]\n",
    "> ['70', '3', '45', '62', '55']\n",
    "```"
   ]
  },
  {
   "cell_type": "code",
   "execution_count": 44,
   "metadata": {
    "collapsed": true
   },
   "outputs": [],
   "source": [
    "def predict(image_path, model, topk=5):\n",
    "    ''' Predict the class (or classes) of an image using a trained deep learning model.\n",
    "    '''\n",
    "    data = Variable((process_image(image_path)).unsqueeze_(0), volatile=True).cuda(0)\n",
    "    model_vgg = model.eval()\n",
    "    # apply data to model\n",
    "    output = model_vgg(data)\n",
    "\n",
    "    o=(output.topk(5))\n",
    "    flowerlist=[]\n",
    "    problist=[]\n",
    "    for i in range(5):\n",
    "        c=(o[1][0][i])\n",
    "        cin=(c.data.cpu().numpy()[0])\n",
    "       \n",
    "        flowerlist.append(class_to_idx[cin])\n",
    "        c=(o[0][0][i])\n",
    "        cin=(c.data.cpu().numpy()[0])\n",
    "        \n",
    "        problist.append(cin)\n",
    "\n",
    "    return (flowerlist,problist)\n",
    "  \n",
    "    \n",
    "    \n",
    "    # TODO: Implement the code to predict the class from an image file"
   ]
  },
  {
   "cell_type": "code",
   "execution_count": 45,
   "metadata": {
    "collapsed": true
   },
   "outputs": [],
   "source": [
    "from PIL import Image\n",
    "img_path=\"/flowers/test/1/image_06743.jpg\"\n",
    "flowerlist,problist=predict(img_path,model,5)"
   ]
  },
  {
   "cell_type": "markdown",
   "metadata": {},
   "source": [
    "## Sanity Checking\n",
    "\n",
    "Now that you can use a trained model for predictions, check to make sure it makes sense. Even if the testing accuracy is high, it's always good to check that there aren't obvious bugs. Use `matplotlib` to plot the probabilities for the top 5 classes as a bar graph, along with the input image. It should look like this:\n",
    "\n",
    "<img src='assets/inference_example.png' width=300px>\n",
    "\n",
    "You can convert from the class integer encoding to actual flower names with the `cat_to_name.json` file (should have been loaded earlier in the notebook). To show a PyTorch tensor as an image, use the `imshow` function defined above."
   ]
  },
  {
   "cell_type": "code",
   "execution_count": 46,
   "metadata": {},
   "outputs": [
    {
     "data": {
      "image/png": "[encoded data removed]",
      "text/plain": [
       "<Figure size 432x288 with 1 Axes>"
      ]
     },
     "metadata": {},
     "output_type": "display_data"
    },
    {
     "data": {
      "image/png": "[encoded data removed]",
      "text/plain": [
       "<Figure size 640x480 with 1 Axes>"
      ]
     },
     "metadata": {},
     "output_type": "display_data"
    }
   ],
   "source": [
    "img_path=\"/flowers/test/1/image_06743.jpg\"\n",
    "imshow(process_image(img_path),title=flowerlist[0])\n",
    "\n",
    "# Example data\n",
    "plt.rcdefaults()\n",
    "fig, ax = plt.subplots()\n",
    "y_pos = np.arange(len(flowerlist))\n",
    "error = np.random.rand(len(flowerlist))\n",
    "ax.barh(y_pos, problist, xerr=error, align='center',\n",
    "        color='blue')\n",
    "ax.set_yticks(y_pos)\n",
    "ax.set_yticklabels(flowerlist)\n",
    "ax.invert_yaxis()  # labels read top-to-bottom\n",
    "ax.set_xlabel('Probalities')\n",
    "ax.set_title('Top 5 Prediction')\n",
    "\n",
    "plt.show()"
   ]
  },
  {
   "cell_type": "code",
   "execution_count": null,
   "metadata": {
    "collapsed": true
   },
   "outputs": [],
   "source": []
  }
 ],
 "metadata": {
  "kernelspec": {
   "display_name": "Python 3",
   "language": "python",
   "name": "python3"
  },
  "language_info": {
   "codemirror_mode": {
    "name": "ipython",
    "version": 3
   },
   "file_extension": ".py",
   "mimetype": "text/x-python",
   "name": "python",
   "nbconvert_exporter": "python",
   "pygments_lexer": "ipython3",
   "version": "3.5.4"
  }
 },
 "nbformat": 4,
 "nbformat_minor": 2
}
