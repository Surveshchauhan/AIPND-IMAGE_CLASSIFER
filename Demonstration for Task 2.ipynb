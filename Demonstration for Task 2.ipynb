{
 "cells": [
  {
   "cell_type": "markdown",
   "metadata": {},
   "source": [
    "### This notebook will be demonstrating the running of train.py and predict.py scripts via command line"
   ]
  },
  {
   "cell_type": "markdown",
   "metadata": {},
   "source": [
    "Here the \n",
    "\n",
    "1) model is 'alexnet'\n",
    "\n",
    "2) epochs = 40\n",
    "\n",
    "3) hidden units =4096\n",
    "\n",
    "4) learning rate =0.01\n",
    "\n",
    "5) --g is GPU switch, when specified the train.py script will use the GPU"
   ]
  },
  {
   "cell_type": "code",
   "execution_count": 1,
   "metadata": {},
   "outputs": [
    {
     "name": "stdout",
     "output_type": "stream",
     "text": [
      "Hyperparameters\n",
      "=> no checkpoint found at ''\n",
      "=> using pre-trained model 'alexnet'\n",
      "getting the features\n",
      "Training\n",
      "Epoch 0/39\n",
      "train Loss: 0.0674 Acc: 0.0815\n",
      "val Loss: 0.0561 Acc: 0.1895\n",
      "=> Saving a new best\n",
      "Epoch 1/39\n",
      "train Loss: 0.0535 Acc: 0.2268\n",
      "val Loss: 0.0420 Acc: 0.2983\n",
      "=> Saving a new best\n",
      "Epoch 2/39\n",
      "train Loss: 0.0411 Acc: 0.3658\n",
      "val Loss: 0.0305 Acc: 0.4609\n",
      "=> Saving a new best\n",
      "Epoch 3/39\n",
      "train Loss: 0.0324 Acc: 0.4692\n",
      "val Loss: 0.0308 Acc: 0.4841\n",
      "=> Saving a new best\n",
      "Epoch 4/39\n",
      "train Loss: 0.0272 Acc: 0.5569\n",
      "val Loss: 0.0221 Acc: 0.6125\n",
      "=> Saving a new best\n",
      "Epoch 5/39\n",
      "train Loss: 0.0230 Acc: 0.6111\n",
      "val Loss: 0.0187 Acc: 0.6932\n",
      "=> Saving a new best\n",
      "Epoch 6/39\n",
      "train Loss: 0.0197 Acc: 0.6645\n",
      "val Loss: 0.0168 Acc: 0.7078\n",
      "=> Saving a new best\n",
      "Epoch 7/39\n",
      "train Loss: 0.0173 Acc: 0.7045\n",
      "val Loss: 0.0154 Acc: 0.7176\n",
      "=> Saving a new best\n",
      "Epoch 8/39\n",
      "train Loss: 0.0152 Acc: 0.7440\n",
      "val Loss: 0.0252 Acc: 0.6174\n",
      "Epoch 9/39\n",
      "train Loss: 0.0142 Acc: 0.7656\n",
      "val Loss: 0.0129 Acc: 0.7714\n",
      "=> Saving a new best\n",
      "Epoch 10/39\n",
      "train Loss: 0.0120 Acc: 0.7964\n",
      "val Loss: 0.0130 Acc: 0.7763\n",
      "=> Saving a new best\n",
      "Epoch 11/39\n",
      "train Loss: 0.0107 Acc: 0.8127\n",
      "val Loss: 0.0132 Acc: 0.7824\n",
      "=> Saving a new best\n",
      "Epoch 12/39\n",
      "train Loss: 0.0098 Acc: 0.8315\n",
      "val Loss: 0.0123 Acc: 0.7897\n",
      "=> Saving a new best\n",
      "Epoch 13/39\n",
      "train Loss: 0.0089 Acc: 0.8454\n",
      "val Loss: 0.0143 Acc: 0.7702\n",
      "Epoch 14/39\n",
      "train Loss: 0.0081 Acc: 0.8571\n",
      "val Loss: 0.0138 Acc: 0.7751\n",
      "Epoch 15/39\n",
      "train Loss: 0.0072 Acc: 0.8756\n",
      "val Loss: 0.0114 Acc: 0.8093\n",
      "=> Saving a new best\n",
      "Epoch 16/39\n",
      "train Loss: 0.0068 Acc: 0.8814\n",
      "val Loss: 0.0123 Acc: 0.7861\n",
      "Epoch 17/39\n",
      "train Loss: 0.0060 Acc: 0.8982\n",
      "val Loss: 0.0125 Acc: 0.7885\n",
      "Epoch 18/39\n",
      "train Loss: 0.0054 Acc: 0.9142\n",
      "val Loss: 0.0107 Acc: 0.8203\n",
      "=> Saving a new best\n",
      "Epoch 19/39\n",
      "train Loss: 0.0050 Acc: 0.9124\n",
      "val Loss: 0.0111 Acc: 0.8301\n",
      "=> Saving a new best\n",
      "Epoch 20/39\n",
      "train Loss: 0.0046 Acc: 0.9187\n",
      "val Loss: 0.0125 Acc: 0.8007\n",
      "Epoch 21/39\n",
      "train Loss: 0.0042 Acc: 0.9295\n",
      "val Loss: 0.0141 Acc: 0.7812\n",
      "Epoch 22/39\n",
      "train Loss: 0.0038 Acc: 0.9414\n",
      "val Loss: 0.0111 Acc: 0.8178\n",
      "Epoch 23/39\n",
      "train Loss: 0.0036 Acc: 0.9405\n",
      "val Loss: 0.0109 Acc: 0.8276\n",
      "Epoch 24/39\n",
      "train Loss: 0.0033 Acc: 0.9467\n",
      "val Loss: 0.0133 Acc: 0.7861\n",
      "Epoch 25/39\n",
      "train Loss: 0.0032 Acc: 0.9496\n",
      "val Loss: 0.0117 Acc: 0.8325\n",
      "=> Saving a new best\n",
      "Epoch 26/39\n",
      "train Loss: 0.0030 Acc: 0.9490\n",
      "val Loss: 0.0113 Acc: 0.8325\n",
      "Epoch 27/39\n",
      "train Loss: 0.0028 Acc: 0.9565\n",
      "val Loss: 0.0106 Acc: 0.8276\n",
      "Epoch 28/39\n",
      "train Loss: 0.0027 Acc: 0.9579\n",
      "val Loss: 0.0111 Acc: 0.8166\n",
      "Epoch 29/39\n",
      "train Loss: 0.0024 Acc: 0.9638\n",
      "val Loss: 0.0117 Acc: 0.8240\n",
      "Epoch 30/39\n",
      "train Loss: 0.0022 Acc: 0.9683\n",
      "val Loss: 0.0109 Acc: 0.8276\n",
      "Epoch 31/39\n",
      "train Loss: 0.0020 Acc: 0.9718\n",
      "val Loss: 0.0107 Acc: 0.8411\n",
      "=> Saving a new best\n",
      "Epoch 32/39\n",
      "train Loss: 0.0019 Acc: 0.9713\n",
      "val Loss: 0.0113 Acc: 0.8374\n",
      "Epoch 33/39\n",
      "train Loss: 0.0018 Acc: 0.9739\n",
      "val Loss: 0.0115 Acc: 0.8264\n",
      "Epoch 34/39\n",
      "train Loss: 0.0018 Acc: 0.9718\n",
      "val Loss: 0.0099 Acc: 0.8509\n",
      "=> Saving a new best\n",
      "Epoch 35/39\n",
      "train Loss: 0.0016 Acc: 0.9770\n",
      "val Loss: 0.0113 Acc: 0.8423\n",
      "Epoch 36/39\n",
      "train Loss: 0.0016 Acc: 0.9779\n",
      "val Loss: 0.0106 Acc: 0.8411\n",
      "Epoch 37/39\n",
      "train Loss: 0.0015 Acc: 0.9786\n",
      "val Loss: 0.0122 Acc: 0.8093\n",
      "Epoch 38/39\n",
      "train Loss: 0.0014 Acc: 0.9789\n",
      "val Loss: 0.0121 Acc: 0.8313\n",
      "Epoch 39/39\n",
      "train Loss: 0.0015 Acc: 0.9773\n",
      "val Loss: 0.0112 Acc: 0.8301\n",
      "\n",
      "Validating on Test Data\n",
      "Loss: 0.0110 Acc: 0.8291\n"
     ]
    }
   ],
   "source": [
    "%run train.py --dir \"/flowers\" --mo \"alexnet\" --ep 40 --hu 4096 --lr 0.01 --g \n",
    "#--resume=\"data/checkpoint.pth.tar\""
   ]
  },
  {
   "cell_type": "markdown",
   "metadata": {},
   "source": [
    "Here the we are just loading the saved model to validate on test data\n",
    "\n",
    "1)--resume - path for saved model\n",
    "\n",
    "2)--g -GPU switch"
   ]
  },
  {
   "cell_type": "code",
   "execution_count": 2,
   "metadata": {},
   "outputs": [
    {
     "name": "stdout",
     "output_type": "stream",
     "text": [
      "Hyperparameters\n",
      "=> loaded checkpoint 'data/alex_checkpoint.pth.tar'\n",
      "Testing on saved model\n",
      "Loss: 0.0142 Acc: 0.7778\n"
     ]
    }
   ],
   "source": [
    "%run train.py --dir \"/flowers\" --mo \"alexnet\" --g --resume=\"data/alex_checkpoint.pth.tar\""
   ]
  },
  {
   "cell_type": "markdown",
   "metadata": {},
   "source": [
    "Here the \n",
    "\n",
    "1) model is 'vgg16\n",
    "\n",
    "2) epochs = 40\n",
    "\n",
    "3) hidden units =4096\n",
    "\n",
    "4) learning rate =0.01\n",
    "\n",
    "5) --g is GPU switch, when specified the train.py script will use the GPU"
   ]
  },
  {
   "cell_type": "code",
   "execution_count": 3,
   "metadata": {},
   "outputs": [
    {
     "name": "stdout",
     "output_type": "stream",
     "text": [
      "Hyperparameters\n",
      "=> no checkpoint found at ''\n",
      "=> using pre-trained model 'vgg16'\n",
      "getting the features\n",
      "Training\n",
      "Epoch 0/39\n",
      "train Loss: 0.0701 Acc: 0.0516\n",
      "val Loss: 0.0667 Acc: 0.1112\n",
      "=> Saving a new best\n",
      "Epoch 1/39\n",
      "train Loss: 0.0647 Acc: 0.1274\n",
      "val Loss: 0.0566 Acc: 0.2384\n",
      "=> Saving a new best\n",
      "Epoch 2/39\n",
      "train Loss: 0.0545 Acc: 0.2457\n",
      "val Loss: 0.0442 Acc: 0.2934\n",
      "=> Saving a new best\n",
      "Epoch 3/39\n",
      "train Loss: 0.0427 Acc: 0.3770\n",
      "val Loss: 0.0378 Acc: 0.3447\n",
      "=> Saving a new best\n",
      "Epoch 4/39\n",
      "train Loss: 0.0338 Acc: 0.4835\n",
      "val Loss: 0.0327 Acc: 0.4425\n",
      "=> Saving a new best\n",
      "Epoch 5/39\n",
      "train Loss: 0.0270 Acc: 0.5801\n",
      "val Loss: 0.0241 Acc: 0.5831\n",
      "=> Saving a new best\n",
      "Epoch 6/39\n",
      "train Loss: 0.0222 Acc: 0.6545\n",
      "val Loss: 0.0222 Acc: 0.5831\n",
      "Epoch 7/39\n",
      "train Loss: 0.0186 Acc: 0.7102\n",
      "val Loss: 0.0188 Acc: 0.6822\n",
      "=> Saving a new best\n",
      "Epoch 8/39\n",
      "train Loss: 0.0154 Acc: 0.7604\n",
      "val Loss: 0.0207 Acc: 0.6773\n",
      "Epoch 9/39\n",
      "train Loss: 0.0134 Acc: 0.7940\n",
      "val Loss: 0.0162 Acc: 0.7152\n",
      "=> Saving a new best\n",
      "Epoch 10/39\n",
      "train Loss: 0.0110 Acc: 0.8336\n",
      "val Loss: 0.0173 Acc: 0.6980\n",
      "Epoch 11/39\n",
      "train Loss: 0.0092 Acc: 0.8658\n",
      "val Loss: 0.0147 Acc: 0.7445\n",
      "=> Saving a new best\n",
      "Epoch 12/39\n",
      "train Loss: 0.0081 Acc: 0.8797\n",
      "val Loss: 0.0158 Acc: 0.7213\n",
      "Epoch 13/39\n",
      "train Loss: 0.0071 Acc: 0.8987\n",
      "val Loss: 0.0123 Acc: 0.7958\n",
      "=> Saving a new best\n",
      "Epoch 14/39\n",
      "train Loss: 0.0060 Acc: 0.9216\n",
      "val Loss: 0.0114 Acc: 0.8032\n",
      "=> Saving a new best\n",
      "Epoch 15/39\n",
      "train Loss: 0.0053 Acc: 0.9286\n",
      "val Loss: 0.0182 Acc: 0.6968\n",
      "Epoch 16/39\n",
      "train Loss: 0.0045 Acc: 0.9472\n",
      "val Loss: 0.0151 Acc: 0.7518\n",
      "Epoch 17/39\n",
      "train Loss: 0.0040 Acc: 0.9536\n",
      "val Loss: 0.0130 Acc: 0.7971\n",
      "Epoch 18/39\n",
      "train Loss: 0.0034 Acc: 0.9620\n",
      "val Loss: 0.0103 Acc: 0.8227\n",
      "=> Saving a new best\n",
      "Epoch 19/39\n",
      "train Loss: 0.0030 Acc: 0.9652\n",
      "val Loss: 0.0110 Acc: 0.8154\n",
      "Epoch 20/39\n",
      "train Loss: 0.0026 Acc: 0.9741\n",
      "val Loss: 0.0105 Acc: 0.8362\n",
      "=> Saving a new best\n",
      "Epoch 21/39\n",
      "train Loss: 0.0024 Acc: 0.9757\n",
      "val Loss: 0.0104 Acc: 0.8301\n",
      "Epoch 22/39\n",
      "train Loss: 0.0022 Acc: 0.9783\n",
      "val Loss: 0.0111 Acc: 0.8203\n",
      "Epoch 23/39\n",
      "train Loss: 0.0019 Acc: 0.9837\n",
      "val Loss: 0.0107 Acc: 0.8203\n",
      "Epoch 24/39\n",
      "train Loss: 0.0019 Acc: 0.9818\n",
      "val Loss: 0.0107 Acc: 0.8142\n",
      "Epoch 25/39\n",
      "train Loss: 0.0016 Acc: 0.9873\n",
      "val Loss: 0.0106 Acc: 0.8227\n",
      "Epoch 26/39\n",
      "train Loss: 0.0015 Acc: 0.9878\n",
      "val Loss: 0.0104 Acc: 0.8399\n",
      "=> Saving a new best\n",
      "Epoch 27/39\n",
      "train Loss: 0.0015 Acc: 0.9870\n",
      "val Loss: 0.0106 Acc: 0.8313\n",
      "Epoch 28/39\n",
      "train Loss: 0.0013 Acc: 0.9904\n",
      "val Loss: 0.0100 Acc: 0.8362\n",
      "Epoch 29/39\n",
      "train Loss: 0.0013 Acc: 0.9905\n",
      "val Loss: 0.0097 Acc: 0.8435\n",
      "=> Saving a new best\n",
      "Epoch 30/39\n",
      "train Loss: 0.0011 Acc: 0.9933\n",
      "val Loss: 0.0098 Acc: 0.8399\n",
      "Epoch 31/39\n",
      "train Loss: 0.0010 Acc: 0.9925\n",
      "val Loss: 0.0101 Acc: 0.8374\n",
      "Epoch 32/39\n",
      "train Loss: 0.0010 Acc: 0.9937\n",
      "val Loss: 0.0096 Acc: 0.8557\n",
      "=> Saving a new best\n",
      "Epoch 33/39\n",
      "train Loss: 0.0008 Acc: 0.9960\n",
      "val Loss: 0.0097 Acc: 0.8545\n",
      "Epoch 34/39\n",
      "train Loss: 0.0008 Acc: 0.9945\n",
      "val Loss: 0.0097 Acc: 0.8484\n",
      "Epoch 35/39\n",
      "train Loss: 0.0008 Acc: 0.9957\n",
      "val Loss: 0.0099 Acc: 0.8374\n",
      "Epoch 36/39\n",
      "train Loss: 0.0008 Acc: 0.9948\n",
      "val Loss: 0.0098 Acc: 0.8423\n",
      "Epoch 37/39\n",
      "train Loss: 0.0007 Acc: 0.9971\n",
      "val Loss: 0.0100 Acc: 0.8533\n",
      "Epoch 38/39\n",
      "train Loss: 0.0007 Acc: 0.9963\n",
      "val Loss: 0.0105 Acc: 0.8325\n",
      "Epoch 39/39\n",
      "train Loss: 0.0007 Acc: 0.9965\n",
      "val Loss: 0.0093 Acc: 0.8570\n",
      "=> Saving a new best\n",
      "\n",
      "Validating on Test Data\n",
      "Loss: 0.0093 Acc: 0.8559\n",
      "Validating on Test Data\n",
      "Loss: 0.0093 Acc: 0.8559\n"
     ]
    }
   ],
   "source": [
    "%run train.py --dir \"/flowers\" --mo \"vgg16\" --ep 40 --hu 4096 --lr 0.01 --g \n",
    "#--resume=\"data/checkpoint.pth.tar\""
   ]
  },
  {
   "cell_type": "markdown",
   "metadata": {},
   "source": [
    "Here the we are just loading the saved model to validate on test data\n",
    "\n",
    "1)--resume - path for saved model\n",
    "\n",
    "2)--g -GPU switch"
   ]
  },
  {
   "cell_type": "code",
   "execution_count": 4,
   "metadata": {},
   "outputs": [
    {
     "name": "stdout",
     "output_type": "stream",
     "text": [
      "Hyperparameters\n",
      "=> loaded checkpoint 'data/vgg_checkpoint.pth.tar'\n",
      "Testing on saved model\n",
      "Loss: 0.0135 Acc: 0.7949\n"
     ]
    }
   ],
   "source": [
    "%run train.py --dir \"/flowers\" --mo \"vgg16\" --g --resume=\"data/vgg_checkpoint.pth.tar\""
   ]
  },
  {
   "cell_type": "markdown",
   "metadata": {},
   "source": [
    "### The below cells will be demonstrating the running of predict.py script via command line"
   ]
  },
  {
   "cell_type": "markdown",
   "metadata": {},
   "source": [
    "#### Load model 'vgg16', using the checkpoint, --g is GPU switch, We wil test the saved model on two images"
   ]
  },
  {
   "cell_type": "code",
   "execution_count": 11,
   "metadata": {},
   "outputs": [
    {
     "name": "stdout",
     "output_type": "stream",
     "text": [
      "data/vgg_checkpoint.pth.tar\n",
      "\n",
      "\n",
      "=> loading checkpoint 'data/vgg_checkpoint.pth.tar' ...\n",
      "=> loaded checkpoint 'data/vgg_checkpoint.pth.tar' (trained for 40 epochs)\n",
      "['pink primrose', 'foxglove', 'cyclamen', 'spear thistle', 'desert-rose']\n",
      "[16.095524, 13.140705, 11.080617, 10.38844, 9.462629]\n"
     ]
    }
   ],
   "source": [
    "%run predict.py --mo=\"vgg16\" --g  --img=\"/flowers/test/1/image_06743.jpg\" --resume=\"data/vgg_checkpoint.pth.tar\""
   ]
  },
  {
   "cell_type": "code",
   "execution_count": 12,
   "metadata": {},
   "outputs": [
    {
     "name": "stdout",
     "output_type": "stream",
     "text": [
      "data/vgg_checkpoint.pth.tar\n",
      "\n",
      "\n",
      "=> loading checkpoint 'data/vgg_checkpoint.pth.tar' ...\n",
      "=> loaded checkpoint 'data/vgg_checkpoint.pth.tar' (trained for 40 epochs)\n",
      "['yellow iris', 'lotus lotus', 'spring crocus', 'spear thistle', 'orange dahlia']\n",
      "[21.764763, 10.616315, 8.0121975, 7.6668897, 7.2271953]\n"
     ]
    }
   ],
   "source": [
    "%run predict.py --mo=\"vgg16\" --g  --img=\"/flowers/test/2/image_05100.jpg\" --resume=\"data/vgg_checkpoint.pth.tar\""
   ]
  },
  {
   "cell_type": "markdown",
   "metadata": {},
   "source": [
    "#### Load model 'alexnet', using the checkpoint, --g is GPU switch, We wil test the saved model on two images"
   ]
  },
  {
   "cell_type": "code",
   "execution_count": 13,
   "metadata": {},
   "outputs": [
    {
     "name": "stdout",
     "output_type": "stream",
     "text": [
      "=> loading checkpoint 'data/alex_checkpoint.pth.tar' ...\n",
      "=> loaded checkpoint 'data/alex_checkpoint.pth.tar' (trained for 35 epochs)\n",
      "['pink primrose', 'carnation', 'cyclamen', 'common dandelion', 'foxglove']\n",
      "[23.907156, 17.866085, 17.864986, 13.262387, 13.21183]\n"
     ]
    }
   ],
   "source": [
    "%run predict.py --mo=\"alexnet\" --g  --img=\"/flowers/test/1/image_06743.jpg\" --resume=\"data/alex_checkpoint.pth.tar\""
   ]
  },
  {
   "cell_type": "code",
   "execution_count": 14,
   "metadata": {},
   "outputs": [
    {
     "name": "stdout",
     "output_type": "stream",
     "text": [
      "=> loading checkpoint 'data/alex_checkpoint.pth.tar' ...\n",
      "=> loaded checkpoint 'data/alex_checkpoint.pth.tar' (trained for 35 epochs)\n",
      "['yellow iris', 'japanese anemone', 'toad lily', 'pink primrose', 'lotus lotus']\n",
      "[19.893875, 10.626744, 9.54042, 8.59035, 8.209143]\n"
     ]
    }
   ],
   "source": [
    "%run predict.py --mo=\"alexnet\" --g  --img=\"/flowers/test/2/image_05100.jpg\" --resume=\"data/alex_checkpoint.pth.tar\""
   ]
  },
  {
   "cell_type": "markdown",
   "metadata": {},
   "source": [
    "#### Running the predict function on CPU"
   ]
  },
  {
   "cell_type": "code",
   "execution_count": 15,
   "metadata": {},
   "outputs": [
    {
     "name": "stdout",
     "output_type": "stream",
     "text": [
      "data/vgg_checkpoint.pth.tar\n",
      "\n",
      "\n",
      "=> loading checkpoint 'data/vgg_checkpoint.pth.tar' ...\n",
      "=> loaded checkpoint 'data/vgg_checkpoint.pth.tar' (trained for 40 epochs)\n",
      "['pink primrose', 'foxglove', 'cyclamen', 'spear thistle', 'desert-rose']\n",
      "[16.09552574157715, 13.140705108642578, 11.080621719360352, 10.388442993164062, 9.46263313293457]\n"
     ]
    }
   ],
   "source": [
    "%run predict.py --mo=\"vgg16\"  --img=\"/flowers/test/1/image_06743.jpg\" --resume=\"data/vgg_checkpoint.pth.tar\""
   ]
  },
  {
   "cell_type": "code",
   "execution_count": 16,
   "metadata": {},
   "outputs": [
    {
     "name": "stdout",
     "output_type": "stream",
     "text": [
      "data/vgg_checkpoint.pth.tar\n",
      "\n",
      "\n",
      "=> loading checkpoint 'data/vgg_checkpoint.pth.tar' ...\n",
      "=> loaded checkpoint 'data/vgg_checkpoint.pth.tar' (trained for 40 epochs)\n",
      "['yellow iris', 'lotus lotus', 'spring crocus', 'spear thistle', 'orange dahlia']\n",
      "[21.764760971069336, 10.616313934326172, 8.012198448181152, 7.6668901443481445, 7.227194309234619]\n"
     ]
    }
   ],
   "source": [
    "%run predict.py --mo=\"vgg16\"  --img=\"/flowers/test/2/image_05100.jpg\" --resume=\"data/vgg_checkpoint.pth.tar\""
   ]
  },
  {
   "cell_type": "code",
   "execution_count": 17,
   "metadata": {},
   "outputs": [
    {
     "name": "stdout",
     "output_type": "stream",
     "text": [
      "=> loading checkpoint 'data/alex_checkpoint.pth.tar' ...\n",
      "=> loaded checkpoint 'data/alex_checkpoint.pth.tar' (trained for 35 epochs)\n",
      "['pink primrose', 'carnation', 'cyclamen', 'common dandelion', 'foxglove']\n",
      "[23.90715980529785, 17.866086959838867, 17.864986419677734, 13.262389183044434, 13.211832046508789]\n"
     ]
    }
   ],
   "source": [
    "%run predict.py --mo=\"alexnet\"   --img=\"/flowers/test/1/image_06743.jpg\" --resume=\"data/alex_checkpoint.pth.tar\""
   ]
  },
  {
   "cell_type": "code",
   "execution_count": 18,
   "metadata": {},
   "outputs": [
    {
     "name": "stdout",
     "output_type": "stream",
     "text": [
      "=> loading checkpoint 'data/alex_checkpoint.pth.tar' ...\n",
      "=> loaded checkpoint 'data/alex_checkpoint.pth.tar' (trained for 35 epochs)\n",
      "['yellow iris', 'japanese anemone', 'toad lily', 'pink primrose', 'lotus lotus']\n",
      "[19.893878936767578, 10.626741409301758, 9.540426254272461, 8.590347290039062, 8.209141731262207]\n"
     ]
    }
   ],
   "source": [
    "%run predict.py --mo=\"alexnet\"   --img=\"/flowers/test/2/image_05100.jpg\" --resume=\"data/alex_checkpoint.pth.tar\""
   ]
  },
  {
   "cell_type": "code",
   "execution_count": null,
   "metadata": {
    "collapsed": true
   },
   "outputs": [],
   "source": []
  }
 ],
 "metadata": {
  "kernelspec": {
   "display_name": "Python 3",
   "language": "python",
   "name": "python3"
  },
  "language_info": {
   "codemirror_mode": {
    "name": "ipython",
    "version": 3
   },
   "file_extension": ".py",
   "mimetype": "text/x-python",
   "name": "python",
   "nbconvert_exporter": "python",
   "pygments_lexer": "ipython3",
   "version": "3.5.4"
  }
 },
 "nbformat": 4,
 "nbformat_minor": 2
}
